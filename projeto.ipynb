{
 "cells": [
  {
   "cell_type": "markdown",
   "metadata": {},
   "source": [
    "# Projeto 3 - Ciência dos Dados\n"
   ]
  },
  {
   "cell_type": "markdown",
   "metadata": {},
   "source": [
    "## Introdução\n",
    "\n",
    "O objetivo principal desse projeto consiste em criar um modelo preditivo capaz de, com base em algumas características do perfil do aluno e no seu desempenho no primeiro dia de prova, dizer se um aluno estará presente ou não no segundo dia de prova. \n",
    "\n",
    "Para isso será utilizada a base de dados com os microdados do Enem 2023, que continham informações relevantes do perfil de todos os candidatos, assim como informações sobre a presença e as notas em todas as provas.\n",
    "\n",
    "No entanto, o DataFrame foi filtrado, inicialmente, no arquivo \"prepara_df\" com base em fatores que seriam mais relevantes para o nosso objetivo, isto é, selecionou-se apenas os alunos que estiveram presentes no primeiro dia de prova e colunas com informações que possivelmente influenciavam na ausencia ao segundo dia de prova, além disso foi criada duas colunas \"PRESENCA_PRIMEIRO_DIA\" e \"PRESENCA_SEGUNDO_DIA\"."
   ]
  },
  {
   "cell_type": "markdown",
   "metadata": {},
   "source": [
    "#### Importando bibliotecas "
   ]
  },
  {
   "cell_type": "code",
   "execution_count": 253,
   "metadata": {},
   "outputs": [],
   "source": [
    "%matplotlib inline\n",
    "import math\n",
    "import os\n",
    "\n",
    "import matplotlib.pyplot as plt\n",
    "import numpy as np\n",
    "from numpy import arange\n",
    "import pandas as pd\n",
    "import seaborn as sns\n",
    "\n",
    "\n",
    "from scipy import stats #importa apenas as funções de estatísticas da biblioteca SciPy.\n",
    "\n",
    "from IPython.display import display  # Para ter melhor print.\n",
    "\n",
    "from sklearn.model_selection import train_test_split\n",
    "from sklearn.linear_model import LogisticRegression, LinearRegression\n",
    "from sklearn.ensemble import RandomForestRegressor, RandomForestClassifier\n",
    "from sklearn.metrics import accuracy_score\n",
    "from sklearn.metrics import f1_score\n",
    "from sklearn.metrics import confusion_matrix"
   ]
  },
  {
   "cell_type": "markdown",
   "metadata": {},
   "source": [
    "#### Lendo o DataFrame"
   ]
  },
  {
   "cell_type": "code",
   "execution_count": 254,
   "metadata": {},
   "outputs": [
    {
     "data": {
      "text/html": [
       "<div>\n",
       "<style scoped>\n",
       "    .dataframe tbody tr th:only-of-type {\n",
       "        vertical-align: middle;\n",
       "    }\n",
       "\n",
       "    .dataframe tbody tr th {\n",
       "        vertical-align: top;\n",
       "    }\n",
       "\n",
       "    .dataframe thead th {\n",
       "        text-align: right;\n",
       "    }\n",
       "</style>\n",
       "<table border=\"1\" class=\"dataframe\">\n",
       "  <thead>\n",
       "    <tr style=\"text-align: right;\">\n",
       "      <th></th>\n",
       "      <th>Unnamed: 0</th>\n",
       "      <th>NU_INSCRICAO</th>\n",
       "      <th>TP_FAIXA_ETARIA</th>\n",
       "      <th>TP_SEXO</th>\n",
       "      <th>TP_ESTADO_CIVIL</th>\n",
       "      <th>TP_COR_RACA</th>\n",
       "      <th>TP_ESCOLA</th>\n",
       "      <th>IN_TREINEIRO</th>\n",
       "      <th>TP_PRESENCA_CN</th>\n",
       "      <th>TP_PRESENCA_CH</th>\n",
       "      <th>TP_PRESENCA_LC</th>\n",
       "      <th>TP_PRESENCA_MT</th>\n",
       "      <th>NU_NOTA_CN</th>\n",
       "      <th>NU_NOTA_CH</th>\n",
       "      <th>NU_NOTA_LC</th>\n",
       "      <th>NU_NOTA_MT</th>\n",
       "      <th>TP_STATUS_REDACAO</th>\n",
       "      <th>NU_NOTA_REDACAO</th>\n",
       "      <th>PRESENCA_PRIMEIRO_DIA</th>\n",
       "      <th>PRESENCA_SEGUNDO_DIA</th>\n",
       "    </tr>\n",
       "  </thead>\n",
       "  <tbody>\n",
       "    <tr>\n",
       "      <th>0</th>\n",
       "      <td>2</td>\n",
       "      <td>210061103945</td>\n",
       "      <td>21 anos</td>\n",
       "      <td>Feminino</td>\n",
       "      <td>Solteiro(a)</td>\n",
       "      <td>Branca</td>\n",
       "      <td>Não Respondeu</td>\n",
       "      <td>Não</td>\n",
       "      <td>Presente na prova</td>\n",
       "      <td>Presente na prova</td>\n",
       "      <td>Presente na prova</td>\n",
       "      <td>Presente na prova</td>\n",
       "      <td>502.0</td>\n",
       "      <td>498.9</td>\n",
       "      <td>475.6</td>\n",
       "      <td>363.2</td>\n",
       "      <td>Sem problemas</td>\n",
       "      <td>700.0</td>\n",
       "      <td>Presente</td>\n",
       "      <td>Presente</td>\n",
       "    </tr>\n",
       "    <tr>\n",
       "      <th>1</th>\n",
       "      <td>3</td>\n",
       "      <td>210060214087</td>\n",
       "      <td>17 anos</td>\n",
       "      <td>Feminino</td>\n",
       "      <td>Solteiro(a)</td>\n",
       "      <td>Parda</td>\n",
       "      <td>Pública</td>\n",
       "      <td>Não</td>\n",
       "      <td>Presente na prova</td>\n",
       "      <td>Presente na prova</td>\n",
       "      <td>Presente na prova</td>\n",
       "      <td>Presente na prova</td>\n",
       "      <td>459.0</td>\n",
       "      <td>508.5</td>\n",
       "      <td>507.2</td>\n",
       "      <td>466.7</td>\n",
       "      <td>Sem problemas</td>\n",
       "      <td>880.0</td>\n",
       "      <td>Presente</td>\n",
       "      <td>Presente</td>\n",
       "    </tr>\n",
       "    <tr>\n",
       "      <th>2</th>\n",
       "      <td>4</td>\n",
       "      <td>210059980948</td>\n",
       "      <td>18 anos</td>\n",
       "      <td>Feminino</td>\n",
       "      <td>Solteiro(a)</td>\n",
       "      <td>Parda</td>\n",
       "      <td>Pública</td>\n",
       "      <td>Não</td>\n",
       "      <td>Presente na prova</td>\n",
       "      <td>Presente na prova</td>\n",
       "      <td>Presente na prova</td>\n",
       "      <td>Presente na prova</td>\n",
       "      <td>402.5</td>\n",
       "      <td>379.2</td>\n",
       "      <td>446.9</td>\n",
       "      <td>338.3</td>\n",
       "      <td>Sem problemas</td>\n",
       "      <td>560.0</td>\n",
       "      <td>Presente</td>\n",
       "      <td>Presente</td>\n",
       "    </tr>\n",
       "    <tr>\n",
       "      <th>3</th>\n",
       "      <td>9</td>\n",
       "      <td>210060801601</td>\n",
       "      <td>Entre 26 e 30 anos</td>\n",
       "      <td>Masculino</td>\n",
       "      <td>Solteiro(a)</td>\n",
       "      <td>Branca</td>\n",
       "      <td>Não Respondeu</td>\n",
       "      <td>Não</td>\n",
       "      <td>Presente na prova</td>\n",
       "      <td>Presente na prova</td>\n",
       "      <td>Presente na prova</td>\n",
       "      <td>Presente na prova</td>\n",
       "      <td>564.7</td>\n",
       "      <td>630.3</td>\n",
       "      <td>610.4</td>\n",
       "      <td>680.2</td>\n",
       "      <td>Sem problemas</td>\n",
       "      <td>600.0</td>\n",
       "      <td>Presente</td>\n",
       "      <td>Presente</td>\n",
       "    </tr>\n",
       "    <tr>\n",
       "      <th>4</th>\n",
       "      <td>10</td>\n",
       "      <td>210059085130</td>\n",
       "      <td>23 anos</td>\n",
       "      <td>Masculino</td>\n",
       "      <td>Solteiro(a)</td>\n",
       "      <td>Parda</td>\n",
       "      <td>Não Respondeu</td>\n",
       "      <td>Não</td>\n",
       "      <td>Presente na prova</td>\n",
       "      <td>Presente na prova</td>\n",
       "      <td>Presente na prova</td>\n",
       "      <td>Presente na prova</td>\n",
       "      <td>644.9</td>\n",
       "      <td>620.2</td>\n",
       "      <td>626.9</td>\n",
       "      <td>736.3</td>\n",
       "      <td>Sem problemas</td>\n",
       "      <td>860.0</td>\n",
       "      <td>Presente</td>\n",
       "      <td>Presente</td>\n",
       "    </tr>\n",
       "    <tr>\n",
       "      <th>...</th>\n",
       "      <td>...</td>\n",
       "      <td>...</td>\n",
       "      <td>...</td>\n",
       "      <td>...</td>\n",
       "      <td>...</td>\n",
       "      <td>...</td>\n",
       "      <td>...</td>\n",
       "      <td>...</td>\n",
       "      <td>...</td>\n",
       "      <td>...</td>\n",
       "      <td>...</td>\n",
       "      <td>...</td>\n",
       "      <td>...</td>\n",
       "      <td>...</td>\n",
       "      <td>...</td>\n",
       "      <td>...</td>\n",
       "      <td>...</td>\n",
       "      <td>...</td>\n",
       "      <td>...</td>\n",
       "      <td>...</td>\n",
       "    </tr>\n",
       "    <tr>\n",
       "      <th>2822638</th>\n",
       "      <td>3933946</td>\n",
       "      <td>210061965964</td>\n",
       "      <td>Entre 31 e 40 anos</td>\n",
       "      <td>Feminino</td>\n",
       "      <td>Solteiro(a)</td>\n",
       "      <td>Branca</td>\n",
       "      <td>Não Respondeu</td>\n",
       "      <td>Não</td>\n",
       "      <td>Presente na prova</td>\n",
       "      <td>Presente na prova</td>\n",
       "      <td>Presente na prova</td>\n",
       "      <td>Presente na prova</td>\n",
       "      <td>568.6</td>\n",
       "      <td>605.2</td>\n",
       "      <td>598.2</td>\n",
       "      <td>496.8</td>\n",
       "      <td>Sem problemas</td>\n",
       "      <td>500.0</td>\n",
       "      <td>Presente</td>\n",
       "      <td>Presente</td>\n",
       "    </tr>\n",
       "    <tr>\n",
       "      <th>2822639</th>\n",
       "      <td>3933948</td>\n",
       "      <td>210061959674</td>\n",
       "      <td>18 anos</td>\n",
       "      <td>Masculino</td>\n",
       "      <td>Solteiro(a)</td>\n",
       "      <td>Branca</td>\n",
       "      <td>Pública</td>\n",
       "      <td>Não</td>\n",
       "      <td>Presente na prova</td>\n",
       "      <td>Presente na prova</td>\n",
       "      <td>Presente na prova</td>\n",
       "      <td>Presente na prova</td>\n",
       "      <td>476.2</td>\n",
       "      <td>542.9</td>\n",
       "      <td>545.2</td>\n",
       "      <td>530.5</td>\n",
       "      <td>Sem problemas</td>\n",
       "      <td>600.0</td>\n",
       "      <td>Presente</td>\n",
       "      <td>Presente</td>\n",
       "    </tr>\n",
       "    <tr>\n",
       "      <th>2822640</th>\n",
       "      <td>3933950</td>\n",
       "      <td>210061959676</td>\n",
       "      <td>Entre 31 e 40 anos</td>\n",
       "      <td>Masculino</td>\n",
       "      <td>Solteiro(a)</td>\n",
       "      <td>Branca</td>\n",
       "      <td>Não Respondeu</td>\n",
       "      <td>Não</td>\n",
       "      <td>Presente na prova</td>\n",
       "      <td>Presente na prova</td>\n",
       "      <td>Presente na prova</td>\n",
       "      <td>Presente na prova</td>\n",
       "      <td>566.2</td>\n",
       "      <td>605.6</td>\n",
       "      <td>613.7</td>\n",
       "      <td>547.3</td>\n",
       "      <td>Sem problemas</td>\n",
       "      <td>540.0</td>\n",
       "      <td>Presente</td>\n",
       "      <td>Presente</td>\n",
       "    </tr>\n",
       "    <tr>\n",
       "      <th>2822641</th>\n",
       "      <td>3933951</td>\n",
       "      <td>210061950911</td>\n",
       "      <td>Menor de 17 anos</td>\n",
       "      <td>Feminino</td>\n",
       "      <td>Solteiro(a)</td>\n",
       "      <td>Branca</td>\n",
       "      <td>Não Respondeu</td>\n",
       "      <td>Sim</td>\n",
       "      <td>Presente na prova</td>\n",
       "      <td>Presente na prova</td>\n",
       "      <td>Presente na prova</td>\n",
       "      <td>Presente na prova</td>\n",
       "      <td>377.2</td>\n",
       "      <td>535.6</td>\n",
       "      <td>610.6</td>\n",
       "      <td>644.4</td>\n",
       "      <td>Sem problemas</td>\n",
       "      <td>640.0</td>\n",
       "      <td>Presente</td>\n",
       "      <td>Presente</td>\n",
       "    </tr>\n",
       "    <tr>\n",
       "      <th>2822642</th>\n",
       "      <td>3933953</td>\n",
       "      <td>210061932304</td>\n",
       "      <td>17 anos</td>\n",
       "      <td>Masculino</td>\n",
       "      <td>Solteiro(a)</td>\n",
       "      <td>Branca</td>\n",
       "      <td>Privada</td>\n",
       "      <td>Não</td>\n",
       "      <td>Presente na prova</td>\n",
       "      <td>Presente na prova</td>\n",
       "      <td>Presente na prova</td>\n",
       "      <td>Presente na prova</td>\n",
       "      <td>515.7</td>\n",
       "      <td>539.0</td>\n",
       "      <td>536.0</td>\n",
       "      <td>569.0</td>\n",
       "      <td>Sem problemas</td>\n",
       "      <td>600.0</td>\n",
       "      <td>Presente</td>\n",
       "      <td>Presente</td>\n",
       "    </tr>\n",
       "  </tbody>\n",
       "</table>\n",
       "<p>2822643 rows × 20 columns</p>\n",
       "</div>"
      ],
      "text/plain": [
       "         Unnamed: 0  NU_INSCRICAO     TP_FAIXA_ETARIA    TP_SEXO  \\\n",
       "0                 2  210061103945             21 anos   Feminino   \n",
       "1                 3  210060214087             17 anos   Feminino   \n",
       "2                 4  210059980948             18 anos   Feminino   \n",
       "3                 9  210060801601  Entre 26 e 30 anos  Masculino   \n",
       "4                10  210059085130             23 anos  Masculino   \n",
       "...             ...           ...                 ...        ...   \n",
       "2822638     3933946  210061965964  Entre 31 e 40 anos   Feminino   \n",
       "2822639     3933948  210061959674             18 anos  Masculino   \n",
       "2822640     3933950  210061959676  Entre 31 e 40 anos  Masculino   \n",
       "2822641     3933951  210061950911    Menor de 17 anos   Feminino   \n",
       "2822642     3933953  210061932304             17 anos  Masculino   \n",
       "\n",
       "        TP_ESTADO_CIVIL TP_COR_RACA      TP_ESCOLA IN_TREINEIRO  \\\n",
       "0           Solteiro(a)      Branca  Não Respondeu          Não   \n",
       "1           Solteiro(a)       Parda        Pública          Não   \n",
       "2           Solteiro(a)       Parda        Pública          Não   \n",
       "3           Solteiro(a)      Branca  Não Respondeu          Não   \n",
       "4           Solteiro(a)       Parda  Não Respondeu          Não   \n",
       "...                 ...         ...            ...          ...   \n",
       "2822638     Solteiro(a)      Branca  Não Respondeu          Não   \n",
       "2822639     Solteiro(a)      Branca        Pública          Não   \n",
       "2822640     Solteiro(a)      Branca  Não Respondeu          Não   \n",
       "2822641     Solteiro(a)      Branca  Não Respondeu          Sim   \n",
       "2822642     Solteiro(a)      Branca        Privada          Não   \n",
       "\n",
       "            TP_PRESENCA_CN     TP_PRESENCA_CH     TP_PRESENCA_LC  \\\n",
       "0        Presente na prova  Presente na prova  Presente na prova   \n",
       "1        Presente na prova  Presente na prova  Presente na prova   \n",
       "2        Presente na prova  Presente na prova  Presente na prova   \n",
       "3        Presente na prova  Presente na prova  Presente na prova   \n",
       "4        Presente na prova  Presente na prova  Presente na prova   \n",
       "...                    ...                ...                ...   \n",
       "2822638  Presente na prova  Presente na prova  Presente na prova   \n",
       "2822639  Presente na prova  Presente na prova  Presente na prova   \n",
       "2822640  Presente na prova  Presente na prova  Presente na prova   \n",
       "2822641  Presente na prova  Presente na prova  Presente na prova   \n",
       "2822642  Presente na prova  Presente na prova  Presente na prova   \n",
       "\n",
       "            TP_PRESENCA_MT  NU_NOTA_CN  NU_NOTA_CH  NU_NOTA_LC  NU_NOTA_MT  \\\n",
       "0        Presente na prova       502.0       498.9       475.6       363.2   \n",
       "1        Presente na prova       459.0       508.5       507.2       466.7   \n",
       "2        Presente na prova       402.5       379.2       446.9       338.3   \n",
       "3        Presente na prova       564.7       630.3       610.4       680.2   \n",
       "4        Presente na prova       644.9       620.2       626.9       736.3   \n",
       "...                    ...         ...         ...         ...         ...   \n",
       "2822638  Presente na prova       568.6       605.2       598.2       496.8   \n",
       "2822639  Presente na prova       476.2       542.9       545.2       530.5   \n",
       "2822640  Presente na prova       566.2       605.6       613.7       547.3   \n",
       "2822641  Presente na prova       377.2       535.6       610.6       644.4   \n",
       "2822642  Presente na prova       515.7       539.0       536.0       569.0   \n",
       "\n",
       "        TP_STATUS_REDACAO  NU_NOTA_REDACAO PRESENCA_PRIMEIRO_DIA  \\\n",
       "0           Sem problemas            700.0              Presente   \n",
       "1           Sem problemas            880.0              Presente   \n",
       "2           Sem problemas            560.0              Presente   \n",
       "3           Sem problemas            600.0              Presente   \n",
       "4           Sem problemas            860.0              Presente   \n",
       "...                   ...              ...                   ...   \n",
       "2822638     Sem problemas            500.0              Presente   \n",
       "2822639     Sem problemas            600.0              Presente   \n",
       "2822640     Sem problemas            540.0              Presente   \n",
       "2822641     Sem problemas            640.0              Presente   \n",
       "2822642     Sem problemas            600.0              Presente   \n",
       "\n",
       "        PRESENCA_SEGUNDO_DIA  \n",
       "0                   Presente  \n",
       "1                   Presente  \n",
       "2                   Presente  \n",
       "3                   Presente  \n",
       "4                   Presente  \n",
       "...                      ...  \n",
       "2822638             Presente  \n",
       "2822639             Presente  \n",
       "2822640             Presente  \n",
       "2822641             Presente  \n",
       "2822642             Presente  \n",
       "\n",
       "[2822643 rows x 20 columns]"
      ]
     },
     "execution_count": 254,
     "metadata": {},
     "output_type": "execute_result"
    }
   ],
   "source": [
    "# Lendo a base de dados \n",
    "df = pd.read_csv('MICRODADOS_REDUZIDO', sep=';')\n",
    "df"
   ]
  },
  {
   "cell_type": "markdown",
   "metadata": {},
   "source": [
    "### Análise Exploratória\n"
   ]
  },
  {
   "cell_type": "markdown",
   "metadata": {},
   "source": [
    "Inicialmente será analisado o novo DataFrame completo, tanto de alunos que estiveram presentes no segundo dia de prova como de alunos que faltaram, analisando os percentuais de falta por rótulo, tentando entender se existem maiores percentuais de falta em alguns rótulos.\n",
    "\n",
    "No caso de features quantitativas, essas serão analisadas por meio de boxplots.\n"
   ]
  },
  {
   "cell_type": "markdown",
   "metadata": {},
   "source": [
    "#### Relação de idade e presença no segundo dia de prova"
   ]
  },
  {
   "cell_type": "code",
   "execution_count": 255,
   "metadata": {},
   "outputs": [
    {
     "data": {
      "text/html": [
       "<div>\n",
       "<style scoped>\n",
       "    .dataframe tbody tr th:only-of-type {\n",
       "        vertical-align: middle;\n",
       "    }\n",
       "\n",
       "    .dataframe tbody tr th {\n",
       "        vertical-align: top;\n",
       "    }\n",
       "\n",
       "    .dataframe thead th {\n",
       "        text-align: right;\n",
       "    }\n",
       "</style>\n",
       "<table border=\"1\" class=\"dataframe\">\n",
       "  <thead>\n",
       "    <tr style=\"text-align: right;\">\n",
       "      <th>PRESENCA_SEGUNDO_DIA</th>\n",
       "      <th>Faltou</th>\n",
       "      <th>Presente</th>\n",
       "    </tr>\n",
       "    <tr>\n",
       "      <th>TP_FAIXA_ETARIA</th>\n",
       "      <th></th>\n",
       "      <th></th>\n",
       "    </tr>\n",
       "  </thead>\n",
       "  <tbody>\n",
       "    <tr>\n",
       "      <th>17 anos</th>\n",
       "      <td>0.044684</td>\n",
       "      <td>0.955316</td>\n",
       "    </tr>\n",
       "    <tr>\n",
       "      <th>18 anos</th>\n",
       "      <td>0.043000</td>\n",
       "      <td>0.957000</td>\n",
       "    </tr>\n",
       "    <tr>\n",
       "      <th>19 anos</th>\n",
       "      <td>0.045300</td>\n",
       "      <td>0.954700</td>\n",
       "    </tr>\n",
       "    <tr>\n",
       "      <th>20 anos</th>\n",
       "      <td>0.047988</td>\n",
       "      <td>0.952012</td>\n",
       "    </tr>\n",
       "    <tr>\n",
       "      <th>21 anos</th>\n",
       "      <td>0.050679</td>\n",
       "      <td>0.949321</td>\n",
       "    </tr>\n",
       "    <tr>\n",
       "      <th>22 anos</th>\n",
       "      <td>0.053289</td>\n",
       "      <td>0.946711</td>\n",
       "    </tr>\n",
       "    <tr>\n",
       "      <th>23 anos</th>\n",
       "      <td>0.057803</td>\n",
       "      <td>0.942197</td>\n",
       "    </tr>\n",
       "    <tr>\n",
       "      <th>24 anos</th>\n",
       "      <td>0.060126</td>\n",
       "      <td>0.939874</td>\n",
       "    </tr>\n",
       "    <tr>\n",
       "      <th>25 anos</th>\n",
       "      <td>0.063368</td>\n",
       "      <td>0.936632</td>\n",
       "    </tr>\n",
       "    <tr>\n",
       "      <th>Entre 26 e 30 anos</th>\n",
       "      <td>0.066212</td>\n",
       "      <td>0.933788</td>\n",
       "    </tr>\n",
       "    <tr>\n",
       "      <th>Entre 31 e 40 anos</th>\n",
       "      <td>0.065840</td>\n",
       "      <td>0.934160</td>\n",
       "    </tr>\n",
       "    <tr>\n",
       "      <th>Entre 36 e 40 anos</th>\n",
       "      <td>0.063348</td>\n",
       "      <td>0.936652</td>\n",
       "    </tr>\n",
       "    <tr>\n",
       "      <th>Entre 41 e 45 anos</th>\n",
       "      <td>0.066084</td>\n",
       "      <td>0.933916</td>\n",
       "    </tr>\n",
       "    <tr>\n",
       "      <th>Entre 46 e 50 anos</th>\n",
       "      <td>0.058667</td>\n",
       "      <td>0.941333</td>\n",
       "    </tr>\n",
       "    <tr>\n",
       "      <th>Entre 51 e 55 anos</th>\n",
       "      <td>0.058712</td>\n",
       "      <td>0.941288</td>\n",
       "    </tr>\n",
       "    <tr>\n",
       "      <th>Entre 56 e 60 anos</th>\n",
       "      <td>0.055586</td>\n",
       "      <td>0.944414</td>\n",
       "    </tr>\n",
       "    <tr>\n",
       "      <th>Entre 61 e 65 anos</th>\n",
       "      <td>0.047530</td>\n",
       "      <td>0.952470</td>\n",
       "    </tr>\n",
       "    <tr>\n",
       "      <th>Entre 66 e 70 anos</th>\n",
       "      <td>0.057480</td>\n",
       "      <td>0.942520</td>\n",
       "    </tr>\n",
       "    <tr>\n",
       "      <th>Mais de 70 anos</th>\n",
       "      <td>0.047431</td>\n",
       "      <td>0.952569</td>\n",
       "    </tr>\n",
       "    <tr>\n",
       "      <th>Menor de 17 anos</th>\n",
       "      <td>0.065979</td>\n",
       "      <td>0.934021</td>\n",
       "    </tr>\n",
       "    <tr>\n",
       "      <th>All</th>\n",
       "      <td>0.050385</td>\n",
       "      <td>0.949615</td>\n",
       "    </tr>\n",
       "  </tbody>\n",
       "</table>\n",
       "</div>"
      ],
      "text/plain": [
       "PRESENCA_SEGUNDO_DIA    Faltou  Presente\n",
       "TP_FAIXA_ETARIA                         \n",
       "17 anos               0.044684  0.955316\n",
       "18 anos               0.043000  0.957000\n",
       "19 anos               0.045300  0.954700\n",
       "20 anos               0.047988  0.952012\n",
       "21 anos               0.050679  0.949321\n",
       "22 anos               0.053289  0.946711\n",
       "23 anos               0.057803  0.942197\n",
       "24 anos               0.060126  0.939874\n",
       "25 anos               0.063368  0.936632\n",
       "Entre 26 e 30 anos    0.066212  0.933788\n",
       "Entre 31 e 40 anos    0.065840  0.934160\n",
       "Entre 36 e 40 anos    0.063348  0.936652\n",
       "Entre 41 e 45 anos    0.066084  0.933916\n",
       "Entre 46 e 50 anos    0.058667  0.941333\n",
       "Entre 51 e 55 anos    0.058712  0.941288\n",
       "Entre 56 e 60 anos    0.055586  0.944414\n",
       "Entre 61 e 65 anos    0.047530  0.952470\n",
       "Entre 66 e 70 anos    0.057480  0.942520\n",
       "Mais de 70 anos       0.047431  0.952569\n",
       "Menor de 17 anos      0.065979  0.934021\n",
       "All                   0.050385  0.949615"
      ]
     },
     "execution_count": 255,
     "metadata": {},
     "output_type": "execute_result"
    }
   ],
   "source": [
    "percent_por_idade = pd.crosstab(df.TP_FAIXA_ETARIA, df.PRESENCA_SEGUNDO_DIA, normalize='index', margins=True)\n",
    "percent_por_idade"
   ]
  },
  {
   "cell_type": "markdown",
   "metadata": {},
   "source": [
    "É possível observar que o percentual de falta no segundo dia de prova por faixa de idades gira está entre 4,3% e 6,6%, no entanto é possível perceber que esse percentual é mais alto entre os 22 e 70 anos, incluindo também os candidatos menores de 17 anos. Por outro lado, os menores percentuais estão nas faixas 17 à 20 anos, incluindo também a faixa acima de 70 anos."
   ]
  },
  {
   "cell_type": "markdown",
   "metadata": {},
   "source": [
    "#### Analisando por Sexo"
   ]
  },
  {
   "cell_type": "code",
   "execution_count": 256,
   "metadata": {},
   "outputs": [
    {
     "data": {
      "text/html": [
       "<div>\n",
       "<style scoped>\n",
       "    .dataframe tbody tr th:only-of-type {\n",
       "        vertical-align: middle;\n",
       "    }\n",
       "\n",
       "    .dataframe tbody tr th {\n",
       "        vertical-align: top;\n",
       "    }\n",
       "\n",
       "    .dataframe thead th {\n",
       "        text-align: right;\n",
       "    }\n",
       "</style>\n",
       "<table border=\"1\" class=\"dataframe\">\n",
       "  <thead>\n",
       "    <tr style=\"text-align: right;\">\n",
       "      <th>PRESENCA_SEGUNDO_DIA</th>\n",
       "      <th>Faltou</th>\n",
       "      <th>Presente</th>\n",
       "    </tr>\n",
       "    <tr>\n",
       "      <th>TP_SEXO</th>\n",
       "      <th></th>\n",
       "      <th></th>\n",
       "    </tr>\n",
       "  </thead>\n",
       "  <tbody>\n",
       "    <tr>\n",
       "      <th>Feminino</th>\n",
       "      <td>0.051426</td>\n",
       "      <td>0.948574</td>\n",
       "    </tr>\n",
       "    <tr>\n",
       "      <th>Masculino</th>\n",
       "      <td>0.048727</td>\n",
       "      <td>0.951273</td>\n",
       "    </tr>\n",
       "  </tbody>\n",
       "</table>\n",
       "</div>"
      ],
      "text/plain": [
       "PRESENCA_SEGUNDO_DIA    Faltou  Presente\n",
       "TP_SEXO                                 \n",
       "Feminino              0.051426  0.948574\n",
       "Masculino             0.048727  0.951273"
      ]
     },
     "execution_count": 256,
     "metadata": {},
     "output_type": "execute_result"
    }
   ],
   "source": [
    "percent_por_sexo = pd.crosstab(df.TP_SEXO, df.PRESENCA_SEGUNDO_DIA, normalize='index')\n",
    "percent_por_sexo"
   ]
  },
  {
   "cell_type": "markdown",
   "metadata": {},
   "source": [
    "Os percentuais de falta se encontram bem próximos de 5%, no entanto é possível perceber que a desistência do público feminino é levemente maior do que à dos homens"
   ]
  },
  {
   "cell_type": "markdown",
   "metadata": {},
   "source": [
    "#### Analisando por Estado Civil"
   ]
  },
  {
   "cell_type": "code",
   "execution_count": 257,
   "metadata": {},
   "outputs": [
    {
     "data": {
      "text/html": [
       "<div>\n",
       "<style scoped>\n",
       "    .dataframe tbody tr th:only-of-type {\n",
       "        vertical-align: middle;\n",
       "    }\n",
       "\n",
       "    .dataframe tbody tr th {\n",
       "        vertical-align: top;\n",
       "    }\n",
       "\n",
       "    .dataframe thead th {\n",
       "        text-align: right;\n",
       "    }\n",
       "</style>\n",
       "<table border=\"1\" class=\"dataframe\">\n",
       "  <thead>\n",
       "    <tr style=\"text-align: right;\">\n",
       "      <th>PRESENCA_SEGUNDO_DIA</th>\n",
       "      <th>Faltou</th>\n",
       "      <th>Presente</th>\n",
       "    </tr>\n",
       "    <tr>\n",
       "      <th>TP_ESTADO_CIVIL</th>\n",
       "      <th></th>\n",
       "      <th></th>\n",
       "    </tr>\n",
       "  </thead>\n",
       "  <tbody>\n",
       "    <tr>\n",
       "      <th>Casado(a)/Mora com companheiro(a)</th>\n",
       "      <td>0.060793</td>\n",
       "      <td>0.939207</td>\n",
       "    </tr>\n",
       "    <tr>\n",
       "      <th>Divorciado(a)/Desquitado(a)/Separado(a)</th>\n",
       "      <td>0.064345</td>\n",
       "      <td>0.935655</td>\n",
       "    </tr>\n",
       "    <tr>\n",
       "      <th>Não informado</th>\n",
       "      <td>0.061872</td>\n",
       "      <td>0.938128</td>\n",
       "    </tr>\n",
       "    <tr>\n",
       "      <th>Solteiro(a)</th>\n",
       "      <td>0.049261</td>\n",
       "      <td>0.950739</td>\n",
       "    </tr>\n",
       "    <tr>\n",
       "      <th>Viúvo(a)</th>\n",
       "      <td>0.062263</td>\n",
       "      <td>0.937737</td>\n",
       "    </tr>\n",
       "  </tbody>\n",
       "</table>\n",
       "</div>"
      ],
      "text/plain": [
       "PRESENCA_SEGUNDO_DIA                       Faltou  Presente\n",
       "TP_ESTADO_CIVIL                                            \n",
       "Casado(a)/Mora com companheiro(a)        0.060793  0.939207\n",
       "Divorciado(a)/Desquitado(a)/Separado(a)  0.064345  0.935655\n",
       "Não informado                            0.061872  0.938128\n",
       "Solteiro(a)                              0.049261  0.950739\n",
       "Viúvo(a)                                 0.062263  0.937737"
      ]
     },
     "execution_count": 257,
     "metadata": {},
     "output_type": "execute_result"
    }
   ],
   "source": [
    "percent_por_estado_civil = pd.crosstab(df.TP_ESTADO_CIVIL, df.PRESENCA_SEGUNDO_DIA, normalize='index')\n",
    "percent_por_estado_civil"
   ]
  },
  {
   "cell_type": "markdown",
   "metadata": {},
   "source": [
    "É notório que o índice de desistência entre as pessoas dadas como Divorciadas/Desquitadas/Separadoas e Viúvoas tende a ser mais altas comparadas com os outros estados civís. O menor índice de faltas se dá pelas pessoas dadas como Solteiras, com menos de 5%.\n"
   ]
  },
  {
   "cell_type": "markdown",
   "metadata": {},
   "source": [
    "#### Analisando por Raça"
   ]
  },
  {
   "cell_type": "code",
   "execution_count": 258,
   "metadata": {},
   "outputs": [
    {
     "data": {
      "text/html": [
       "<div>\n",
       "<style scoped>\n",
       "    .dataframe tbody tr th:only-of-type {\n",
       "        vertical-align: middle;\n",
       "    }\n",
       "\n",
       "    .dataframe tbody tr th {\n",
       "        vertical-align: top;\n",
       "    }\n",
       "\n",
       "    .dataframe thead th {\n",
       "        text-align: right;\n",
       "    }\n",
       "</style>\n",
       "<table border=\"1\" class=\"dataframe\">\n",
       "  <thead>\n",
       "    <tr style=\"text-align: right;\">\n",
       "      <th>PRESENCA_SEGUNDO_DIA</th>\n",
       "      <th>Faltou</th>\n",
       "      <th>Presente</th>\n",
       "    </tr>\n",
       "    <tr>\n",
       "      <th>TP_COR_RACA</th>\n",
       "      <th></th>\n",
       "      <th></th>\n",
       "    </tr>\n",
       "  </thead>\n",
       "  <tbody>\n",
       "    <tr>\n",
       "      <th>Amarela</th>\n",
       "      <td>0.054184</td>\n",
       "      <td>0.945816</td>\n",
       "    </tr>\n",
       "    <tr>\n",
       "      <th>Branca</th>\n",
       "      <td>0.045841</td>\n",
       "      <td>0.954159</td>\n",
       "    </tr>\n",
       "    <tr>\n",
       "      <th>Indígena</th>\n",
       "      <td>0.073962</td>\n",
       "      <td>0.926038</td>\n",
       "    </tr>\n",
       "    <tr>\n",
       "      <th>Não declarado</th>\n",
       "      <td>0.052009</td>\n",
       "      <td>0.947991</td>\n",
       "    </tr>\n",
       "    <tr>\n",
       "      <th>Parda</th>\n",
       "      <td>0.052381</td>\n",
       "      <td>0.947619</td>\n",
       "    </tr>\n",
       "    <tr>\n",
       "      <th>Preta</th>\n",
       "      <td>0.057955</td>\n",
       "      <td>0.942045</td>\n",
       "    </tr>\n",
       "  </tbody>\n",
       "</table>\n",
       "</div>"
      ],
      "text/plain": [
       "PRESENCA_SEGUNDO_DIA    Faltou  Presente\n",
       "TP_COR_RACA                             \n",
       "Amarela               0.054184  0.945816\n",
       "Branca                0.045841  0.954159\n",
       "Indígena              0.073962  0.926038\n",
       "Não declarado         0.052009  0.947991\n",
       "Parda                 0.052381  0.947619\n",
       "Preta                 0.057955  0.942045"
      ]
     },
     "execution_count": 258,
     "metadata": {},
     "output_type": "execute_result"
    }
   ],
   "source": [
    "percent_por_raca = pd.crosstab(df.TP_COR_RACA, df.PRESENCA_SEGUNDO_DIA, normalize='index')\n",
    "percent_por_raca"
   ]
  },
  {
   "cell_type": "markdown",
   "metadata": {},
   "source": [
    "Pode-se observar que há uma certa discrepância entre os índices de faltas no segundo dia de prova, enquanto pessoas Brancas possuem um índice de falta próximo de 4,5%, entre as pessoas Indígenas esse índice passa de 7%, mostrando-se um fator a ser levado em consideração."
   ]
  },
  {
   "cell_type": "markdown",
   "metadata": {},
   "source": [
    "#### Analisando por Tipo de Escola"
   ]
  },
  {
   "cell_type": "code",
   "execution_count": 259,
   "metadata": {},
   "outputs": [
    {
     "data": {
      "text/html": [
       "<div>\n",
       "<style scoped>\n",
       "    .dataframe tbody tr th:only-of-type {\n",
       "        vertical-align: middle;\n",
       "    }\n",
       "\n",
       "    .dataframe tbody tr th {\n",
       "        vertical-align: top;\n",
       "    }\n",
       "\n",
       "    .dataframe thead th {\n",
       "        text-align: right;\n",
       "    }\n",
       "</style>\n",
       "<table border=\"1\" class=\"dataframe\">\n",
       "  <thead>\n",
       "    <tr style=\"text-align: right;\">\n",
       "      <th>PRESENCA_SEGUNDO_DIA</th>\n",
       "      <th>Faltou</th>\n",
       "      <th>Presente</th>\n",
       "    </tr>\n",
       "    <tr>\n",
       "      <th>TP_ESCOLA</th>\n",
       "      <th></th>\n",
       "      <th></th>\n",
       "    </tr>\n",
       "  </thead>\n",
       "  <tbody>\n",
       "    <tr>\n",
       "      <th>Não Respondeu</th>\n",
       "      <td>0.054711</td>\n",
       "      <td>0.945289</td>\n",
       "    </tr>\n",
       "    <tr>\n",
       "      <th>Privada</th>\n",
       "      <td>0.014837</td>\n",
       "      <td>0.985163</td>\n",
       "    </tr>\n",
       "    <tr>\n",
       "      <th>Pública</th>\n",
       "      <td>0.050998</td>\n",
       "      <td>0.949002</td>\n",
       "    </tr>\n",
       "  </tbody>\n",
       "</table>\n",
       "</div>"
      ],
      "text/plain": [
       "PRESENCA_SEGUNDO_DIA    Faltou  Presente\n",
       "TP_ESCOLA                               \n",
       "Não Respondeu         0.054711  0.945289\n",
       "Privada               0.014837  0.985163\n",
       "Pública               0.050998  0.949002"
      ]
     },
     "execution_count": 259,
     "metadata": {},
     "output_type": "execute_result"
    }
   ],
   "source": [
    "percent_por_escola = pd.crosstab(df.TP_ESCOLA, df.PRESENCA_SEGUNDO_DIA, normalize='index')\n",
    "percent_por_escola"
   ]
  },
  {
   "cell_type": "markdown",
   "metadata": {},
   "source": [
    "É possível notar que o tipo de escola que o aluno realizou o ensino médio é, também, um fator relevante, visto que o percentual de falta dos alunos de escola privada é próximo de 1,5% enquanto o de escola pública é aproximadamente 5% e o de alunos que não respondem a essa pergunta ultrapassa isso."
   ]
  },
  {
   "cell_type": "markdown",
   "metadata": {},
   "source": [
    "#### Analisando por ser Treineiro ou não"
   ]
  },
  {
   "cell_type": "code",
   "execution_count": 260,
   "metadata": {},
   "outputs": [
    {
     "data": {
      "text/html": [
       "<div>\n",
       "<style scoped>\n",
       "    .dataframe tbody tr th:only-of-type {\n",
       "        vertical-align: middle;\n",
       "    }\n",
       "\n",
       "    .dataframe tbody tr th {\n",
       "        vertical-align: top;\n",
       "    }\n",
       "\n",
       "    .dataframe thead th {\n",
       "        text-align: right;\n",
       "    }\n",
       "</style>\n",
       "<table border=\"1\" class=\"dataframe\">\n",
       "  <thead>\n",
       "    <tr style=\"text-align: right;\">\n",
       "      <th>PRESENCA_SEGUNDO_DIA</th>\n",
       "      <th>Faltou</th>\n",
       "      <th>Presente</th>\n",
       "    </tr>\n",
       "    <tr>\n",
       "      <th>IN_TREINEIRO</th>\n",
       "      <th></th>\n",
       "      <th></th>\n",
       "    </tr>\n",
       "  </thead>\n",
       "  <tbody>\n",
       "    <tr>\n",
       "      <th>Não</th>\n",
       "      <td>0.046496</td>\n",
       "      <td>0.953504</td>\n",
       "    </tr>\n",
       "    <tr>\n",
       "      <th>Sim</th>\n",
       "      <td>0.066519</td>\n",
       "      <td>0.933481</td>\n",
       "    </tr>\n",
       "  </tbody>\n",
       "</table>\n",
       "</div>"
      ],
      "text/plain": [
       "PRESENCA_SEGUNDO_DIA    Faltou  Presente\n",
       "IN_TREINEIRO                            \n",
       "Não                   0.046496  0.953504\n",
       "Sim                   0.066519  0.933481"
      ]
     },
     "execution_count": 260,
     "metadata": {},
     "output_type": "execute_result"
    }
   ],
   "source": [
    "percent_por_treineiro = pd.crosstab(df.IN_TREINEIRO, df.PRESENCA_SEGUNDO_DIA, normalize='index')\n",
    "percent_por_treineiro"
   ]
  },
  {
   "cell_type": "markdown",
   "metadata": {},
   "source": [
    "O fato de o aluno ser treineiro ou não também apresenta influência na ausência ao segundo dia de prova, visto que alunos que são treineiros se ausentaram mais que os alunos não treineiros."
   ]
  },
  {
   "cell_type": "markdown",
   "metadata": {},
   "source": [
    "#### Analisando por Nota em Ciências Humanas"
   ]
  },
  {
   "cell_type": "code",
   "execution_count": 261,
   "metadata": {},
   "outputs": [
    {
     "data": {
      "text/html": [
       "<div>\n",
       "<style scoped>\n",
       "    .dataframe tbody tr th:only-of-type {\n",
       "        vertical-align: middle;\n",
       "    }\n",
       "\n",
       "    .dataframe tbody tr th {\n",
       "        vertical-align: top;\n",
       "    }\n",
       "\n",
       "    .dataframe thead th {\n",
       "        text-align: right;\n",
       "    }\n",
       "</style>\n",
       "<table border=\"1\" class=\"dataframe\">\n",
       "  <thead>\n",
       "    <tr style=\"text-align: right;\">\n",
       "      <th></th>\n",
       "      <th>count</th>\n",
       "      <th>mean</th>\n",
       "      <th>std</th>\n",
       "      <th>min</th>\n",
       "      <th>25%</th>\n",
       "      <th>50%</th>\n",
       "      <th>75%</th>\n",
       "      <th>max</th>\n",
       "    </tr>\n",
       "    <tr>\n",
       "      <th>PRESENCA_SEGUNDO_DIA</th>\n",
       "      <th></th>\n",
       "      <th></th>\n",
       "      <th></th>\n",
       "      <th></th>\n",
       "      <th></th>\n",
       "      <th></th>\n",
       "      <th></th>\n",
       "      <th></th>\n",
       "    </tr>\n",
       "  </thead>\n",
       "  <tbody>\n",
       "    <tr>\n",
       "      <th>Faltou</th>\n",
       "      <td>142219.0</td>\n",
       "      <td>470.059</td>\n",
       "      <td>103.244</td>\n",
       "      <td>0.0</td>\n",
       "      <td>412.2</td>\n",
       "      <td>480.2</td>\n",
       "      <td>538.0</td>\n",
       "      <td>804.1</td>\n",
       "    </tr>\n",
       "    <tr>\n",
       "      <th>Presente</th>\n",
       "      <td>2680424.0</td>\n",
       "      <td>526.182</td>\n",
       "      <td>86.815</td>\n",
       "      <td>0.0</td>\n",
       "      <td>471.2</td>\n",
       "      <td>532.9</td>\n",
       "      <td>586.9</td>\n",
       "      <td>823.0</td>\n",
       "    </tr>\n",
       "  </tbody>\n",
       "</table>\n",
       "</div>"
      ],
      "text/plain": [
       "                          count     mean      std  min    25%    50%    75%  \\\n",
       "PRESENCA_SEGUNDO_DIA                                                          \n",
       "Faltou                 142219.0  470.059  103.244  0.0  412.2  480.2  538.0   \n",
       "Presente              2680424.0  526.182   86.815  0.0  471.2  532.9  586.9   \n",
       "\n",
       "                        max  \n",
       "PRESENCA_SEGUNDO_DIA         \n",
       "Faltou                804.1  \n",
       "Presente              823.0  "
      ]
     },
     "execution_count": 261,
     "metadata": {},
     "output_type": "execute_result"
    }
   ],
   "source": [
    "dados_ch = df.groupby('PRESENCA_SEGUNDO_DIA').NU_NOTA_CH.describe().round(3)\n",
    "dados_ch"
   ]
  },
  {
   "cell_type": "code",
   "execution_count": 262,
   "metadata": {},
   "outputs": [],
   "source": [
    "# Separando o DataFrame com base na presença no segundo dia de prova\n",
    "df_faltou_dia_2 = df.loc[df['PRESENCA_SEGUNDO_DIA']=='Faltou',:]\n",
    "df_presente_dia_2 = df.loc[df['PRESENCA_SEGUNDO_DIA']=='Presente',:]\n",
    "\n"
   ]
  },
  {
   "cell_type": "code",
   "execution_count": 263,
   "metadata": {},
   "outputs": [
    {
     "data": {
      "image/png": "[encoded data removed]",
      "text/plain": [
       "<Figure size 1000x600 with 1 Axes>"
      ]
     },
     "metadata": {},
     "output_type": "display_data"
    }
   ],
   "source": [
    "# Plotando o BoxPlot\n",
    "\n",
    "plt.figure(figsize=(10,6))\n",
    "plt.title('Notas dos alunos do primeiro dia divididas pela sua presença no segundo dia')\n",
    "plt.boxplot([df_presente_dia_2['NU_NOTA_CH'], df_faltou_dia_2['NU_NOTA_CH']], labels=['Presentes', 'Faltosos'])\n",
    "plt.show()"
   ]
  },
  {
   "cell_type": "markdown",
   "metadata": {},
   "source": [
    "A média de notas em ciências humanas entre os alunos que estiveram presentes no segundo dia de prova é de 526, enquanto a dos alunos que faltaram é de 470 e ainda é importante ressaltar que o desvio padrão entre os alunos que faltaram é consideravelmente maior, ou seja, suas notas estão mais dispersas em relação à essa média. No entanto o intervalo em que elas se encontram é semelhante."
   ]
  },
  {
   "cell_type": "markdown",
   "metadata": {},
   "source": [
    "#### Analisando por Nota em Linguagens e Códigos"
   ]
  },
  {
   "cell_type": "code",
   "execution_count": 264,
   "metadata": {},
   "outputs": [
    {
     "data": {
      "text/html": [
       "<div>\n",
       "<style scoped>\n",
       "    .dataframe tbody tr th:only-of-type {\n",
       "        vertical-align: middle;\n",
       "    }\n",
       "\n",
       "    .dataframe tbody tr th {\n",
       "        vertical-align: top;\n",
       "    }\n",
       "\n",
       "    .dataframe thead th {\n",
       "        text-align: right;\n",
       "    }\n",
       "</style>\n",
       "<table border=\"1\" class=\"dataframe\">\n",
       "  <thead>\n",
       "    <tr style=\"text-align: right;\">\n",
       "      <th></th>\n",
       "      <th>count</th>\n",
       "      <th>mean</th>\n",
       "      <th>std</th>\n",
       "      <th>min</th>\n",
       "      <th>25%</th>\n",
       "      <th>50%</th>\n",
       "      <th>75%</th>\n",
       "      <th>max</th>\n",
       "    </tr>\n",
       "    <tr>\n",
       "      <th>PRESENCA_SEGUNDO_DIA</th>\n",
       "      <th></th>\n",
       "      <th></th>\n",
       "      <th></th>\n",
       "      <th></th>\n",
       "      <th></th>\n",
       "      <th></th>\n",
       "      <th></th>\n",
       "      <th></th>\n",
       "    </tr>\n",
       "  </thead>\n",
       "  <tbody>\n",
       "    <tr>\n",
       "      <th>Faltou</th>\n",
       "      <td>142219.0</td>\n",
       "      <td>477.903</td>\n",
       "      <td>87.891</td>\n",
       "      <td>0.0</td>\n",
       "      <td>432.6</td>\n",
       "      <td>487.1</td>\n",
       "      <td>534.75</td>\n",
       "      <td>820.8</td>\n",
       "    </tr>\n",
       "    <tr>\n",
       "      <th>Presente</th>\n",
       "      <td>2680424.0</td>\n",
       "      <td>520.282</td>\n",
       "      <td>74.127</td>\n",
       "      <td>0.0</td>\n",
       "      <td>473.7</td>\n",
       "      <td>524.9</td>\n",
       "      <td>571.80</td>\n",
       "      <td>820.8</td>\n",
       "    </tr>\n",
       "  </tbody>\n",
       "</table>\n",
       "</div>"
      ],
      "text/plain": [
       "                          count     mean     std  min    25%    50%     75%  \\\n",
       "PRESENCA_SEGUNDO_DIA                                                          \n",
       "Faltou                 142219.0  477.903  87.891  0.0  432.6  487.1  534.75   \n",
       "Presente              2680424.0  520.282  74.127  0.0  473.7  524.9  571.80   \n",
       "\n",
       "                        max  \n",
       "PRESENCA_SEGUNDO_DIA         \n",
       "Faltou                820.8  \n",
       "Presente              820.8  "
      ]
     },
     "execution_count": 264,
     "metadata": {},
     "output_type": "execute_result"
    }
   ],
   "source": [
    "dados_lc = df.groupby('PRESENCA_SEGUNDO_DIA').NU_NOTA_LC.describe().round(3)\n",
    "dados_lc"
   ]
  },
  {
   "cell_type": "code",
   "execution_count": 265,
   "metadata": {},
   "outputs": [
    {
     "data": {
      "image/png": "[encoded data removed]",
      "text/plain": [
       "<Figure size 1000x600 with 1 Axes>"
      ]
     },
     "metadata": {},
     "output_type": "display_data"
    }
   ],
   "source": [
    "# Plotando o BoxPlot\n",
    "\n",
    "plt.figure(figsize=(10,6))\n",
    "plt.title('Notas dos alunos do primeiro dia divididas pela sua presença no segundo dia')\n",
    "plt.boxplot([df_presente_dia_2['NU_NOTA_LC'], df_faltou_dia_2['NU_NOTA_LC']], labels=['Presentes', 'Faltosos'])\n",
    "plt.show()"
   ]
  },
  {
   "cell_type": "markdown",
   "metadata": {},
   "source": [
    "No caso das notas de Linguagens, a média entre os faltosos do segundo dia é 477 e do presentes é 520, contudo os seus desvios padrões estão bem próximos, ou seja, possuem uma distruibuição semelhante, diferentemente do caso das notas de Ciências Humanas."
   ]
  },
  {
   "cell_type": "markdown",
   "metadata": {},
   "source": [
    "#### Analisando pelo Tipo de Redação"
   ]
  },
  {
   "cell_type": "code",
   "execution_count": 266,
   "metadata": {},
   "outputs": [
    {
     "data": {
      "text/html": [
       "<div>\n",
       "<style scoped>\n",
       "    .dataframe tbody tr th:only-of-type {\n",
       "        vertical-align: middle;\n",
       "    }\n",
       "\n",
       "    .dataframe tbody tr th {\n",
       "        vertical-align: top;\n",
       "    }\n",
       "\n",
       "    .dataframe thead th {\n",
       "        text-align: right;\n",
       "    }\n",
       "</style>\n",
       "<table border=\"1\" class=\"dataframe\">\n",
       "  <thead>\n",
       "    <tr style=\"text-align: right;\">\n",
       "      <th>PRESENCA_SEGUNDO_DIA</th>\n",
       "      <th>Faltou</th>\n",
       "      <th>Presente</th>\n",
       "    </tr>\n",
       "    <tr>\n",
       "      <th>TP_STATUS_REDACAO</th>\n",
       "      <th></th>\n",
       "      <th></th>\n",
       "    </tr>\n",
       "  </thead>\n",
       "  <tbody>\n",
       "    <tr>\n",
       "      <th>Anulada</th>\n",
       "      <td>0.143849</td>\n",
       "      <td>0.856151</td>\n",
       "    </tr>\n",
       "    <tr>\n",
       "      <th>Cópia Texto Motivador</th>\n",
       "      <td>0.096245</td>\n",
       "      <td>0.903755</td>\n",
       "    </tr>\n",
       "    <tr>\n",
       "      <th>Em Branco</th>\n",
       "      <td>0.283974</td>\n",
       "      <td>0.716026</td>\n",
       "    </tr>\n",
       "    <tr>\n",
       "      <th>Fuga ao tema</th>\n",
       "      <td>0.157116</td>\n",
       "      <td>0.842884</td>\n",
       "    </tr>\n",
       "    <tr>\n",
       "      <th>Não atendimento ao tipo textual</th>\n",
       "      <td>0.109186</td>\n",
       "      <td>0.890814</td>\n",
       "    </tr>\n",
       "    <tr>\n",
       "      <th>Parte desconectada</th>\n",
       "      <td>0.145722</td>\n",
       "      <td>0.854278</td>\n",
       "    </tr>\n",
       "    <tr>\n",
       "      <th>Sem problemas</th>\n",
       "      <td>0.043511</td>\n",
       "      <td>0.956489</td>\n",
       "    </tr>\n",
       "    <tr>\n",
       "      <th>Texto insuficiente</th>\n",
       "      <td>0.212628</td>\n",
       "      <td>0.787372</td>\n",
       "    </tr>\n",
       "  </tbody>\n",
       "</table>\n",
       "</div>"
      ],
      "text/plain": [
       "PRESENCA_SEGUNDO_DIA               Faltou  Presente\n",
       "TP_STATUS_REDACAO                                  \n",
       "Anulada                          0.143849  0.856151\n",
       "Cópia Texto Motivador            0.096245  0.903755\n",
       "Em Branco                        0.283974  0.716026\n",
       "Fuga ao tema                     0.157116  0.842884\n",
       "Não atendimento ao tipo textual  0.109186  0.890814\n",
       "Parte desconectada               0.145722  0.854278\n",
       "Sem problemas                    0.043511  0.956489\n",
       "Texto insuficiente               0.212628  0.787372"
      ]
     },
     "execution_count": 266,
     "metadata": {},
     "output_type": "execute_result"
    }
   ],
   "source": [
    "percent_por_tp_redacao = pd.crosstab(df.TP_STATUS_REDACAO, df.PRESENCA_SEGUNDO_DIA, normalize='index')\n",
    "percent_por_tp_redacao"
   ]
  },
  {
   "cell_type": "markdown",
   "metadata": {},
   "source": [
    "A classificação da redação aparenta ser um fator decisivo na decisão do aluno de ir ou não ao segundo dia de prova. A porcentagem de faltas entre os alunos que não tiveram problemas na redação é próximo de 4,3%, bem inferior a todas as outras classificações, como \"Redação em branco\" que chega à possuir um índice de falta de 28%, aproximadamente."
   ]
  },
  {
   "cell_type": "markdown",
   "metadata": {},
   "source": [
    "#### Analisando pela Nota de Redação"
   ]
  },
  {
   "cell_type": "code",
   "execution_count": 267,
   "metadata": {},
   "outputs": [
    {
     "data": {
      "text/html": [
       "<div>\n",
       "<style scoped>\n",
       "    .dataframe tbody tr th:only-of-type {\n",
       "        vertical-align: middle;\n",
       "    }\n",
       "\n",
       "    .dataframe tbody tr th {\n",
       "        vertical-align: top;\n",
       "    }\n",
       "\n",
       "    .dataframe thead th {\n",
       "        text-align: right;\n",
       "    }\n",
       "</style>\n",
       "<table border=\"1\" class=\"dataframe\">\n",
       "  <thead>\n",
       "    <tr style=\"text-align: right;\">\n",
       "      <th></th>\n",
       "      <th>count</th>\n",
       "      <th>mean</th>\n",
       "      <th>std</th>\n",
       "      <th>min</th>\n",
       "      <th>25%</th>\n",
       "      <th>50%</th>\n",
       "      <th>75%</th>\n",
       "      <th>max</th>\n",
       "    </tr>\n",
       "    <tr>\n",
       "      <th>PRESENCA_SEGUNDO_DIA</th>\n",
       "      <th></th>\n",
       "      <th></th>\n",
       "      <th></th>\n",
       "      <th></th>\n",
       "      <th></th>\n",
       "      <th></th>\n",
       "      <th></th>\n",
       "      <th></th>\n",
       "    </tr>\n",
       "  </thead>\n",
       "  <tbody>\n",
       "    <tr>\n",
       "      <th>Faltou</th>\n",
       "      <td>142219.0</td>\n",
       "      <td>453.136</td>\n",
       "      <td>248.983</td>\n",
       "      <td>0.0</td>\n",
       "      <td>340.0</td>\n",
       "      <td>500.0</td>\n",
       "      <td>600.0</td>\n",
       "      <td>1000.0</td>\n",
       "    </tr>\n",
       "    <tr>\n",
       "      <th>Presente</th>\n",
       "      <td>2680424.0</td>\n",
       "      <td>626.535</td>\n",
       "      <td>209.050</td>\n",
       "      <td>0.0</td>\n",
       "      <td>520.0</td>\n",
       "      <td>620.0</td>\n",
       "      <td>780.0</td>\n",
       "      <td>1000.0</td>\n",
       "    </tr>\n",
       "  </tbody>\n",
       "</table>\n",
       "</div>"
      ],
      "text/plain": [
       "                          count     mean      std  min    25%    50%    75%  \\\n",
       "PRESENCA_SEGUNDO_DIA                                                          \n",
       "Faltou                 142219.0  453.136  248.983  0.0  340.0  500.0  600.0   \n",
       "Presente              2680424.0  626.535  209.050  0.0  520.0  620.0  780.0   \n",
       "\n",
       "                         max  \n",
       "PRESENCA_SEGUNDO_DIA          \n",
       "Faltou                1000.0  \n",
       "Presente              1000.0  "
      ]
     },
     "execution_count": 267,
     "metadata": {},
     "output_type": "execute_result"
    }
   ],
   "source": [
    "dados_redacao = df.groupby('PRESENCA_SEGUNDO_DIA').NU_NOTA_REDACAO.describe().round(3)\n",
    "dados_redacao"
   ]
  },
  {
   "cell_type": "code",
   "execution_count": 268,
   "metadata": {},
   "outputs": [
    {
     "data": {
      "image/png": "[encoded data removed]",
      "text/plain": [
       "<Figure size 1000x600 with 1 Axes>"
      ]
     },
     "metadata": {},
     "output_type": "display_data"
    }
   ],
   "source": [
    "# Plotando o BoxPlot\n",
    "\n",
    "plt.figure(figsize=(10,6))\n",
    "plt.title('Notas dos alunos do primeiro dia divididas pela sua presença no segundo dia')\n",
    "plt.boxplot([df_presente_dia_2['NU_NOTA_REDACAO'], df_faltou_dia_2['NU_NOTA_REDACAO']], labels=['Presentes', 'Faltosos'])\n",
    "plt.show()"
   ]
  },
  {
   "cell_type": "markdown",
   "metadata": {},
   "source": [
    "Os intervalos de notas também estão semelhantes, no entanto a média de notas entre os alunos que estiveram presentes no segundo dia de prova é de 626, enquanto a dos que faltaram é de 453, isto é, bem inferior em relação ao grupo que realizou a segunda prova."
   ]
  },
  {
   "cell_type": "markdown",
   "metadata": {},
   "source": [
    "### Modelos de predição"
   ]
  },
  {
   "cell_type": "markdown",
   "metadata": {},
   "source": [
    "Como a target é um rótulo, estar presente ou não no segundo dia de prova, os modelos estatísticos escolhidos foram \n",
    "\n",
    "Random Forest por possuir uma alta precisão e lidar bem com dados categóricos\n",
    "\n",
    "Regressão Logística por lidar bem com previsão de classificação binária (sim/não) e por garantir uma boa eficiência computacional"
   ]
  },
  {
   "cell_type": "code",
   "execution_count": 269,
   "metadata": {},
   "outputs": [
    {
     "data": {
      "text/plain": [
       "Unnamed: 0                    0\n",
       "NU_INSCRICAO                  0\n",
       "TP_FAIXA_ETARIA               0\n",
       "TP_SEXO                       0\n",
       "TP_ESTADO_CIVIL               0\n",
       "TP_COR_RACA                   0\n",
       "TP_ESCOLA                     0\n",
       "IN_TREINEIRO                  0\n",
       "TP_PRESENCA_CN                0\n",
       "TP_PRESENCA_CH                0\n",
       "TP_PRESENCA_LC                0\n",
       "TP_PRESENCA_MT                0\n",
       "NU_NOTA_CN               144379\n",
       "NU_NOTA_CH                    0\n",
       "NU_NOTA_LC                    0\n",
       "NU_NOTA_MT               144379\n",
       "TP_STATUS_REDACAO             0\n",
       "NU_NOTA_REDACAO               0\n",
       "PRESENCA_PRIMEIRO_DIA         0\n",
       "PRESENCA_SEGUNDO_DIA          0\n",
       "dtype: int64"
      ]
     },
     "execution_count": 269,
     "metadata": {},
     "output_type": "execute_result"
    }
   ],
   "source": [
    "# Conferindo quais colunas possuem Nan\n",
    "df.isna().sum()"
   ]
  },
  {
   "cell_type": "markdown",
   "metadata": {},
   "source": [
    "Somente as colunas 'NU_NOTA_CN' e 'NU_NOTA_MT' possuem Nan que correspondem aos candidatos ausentes no segundo dia de prova"
   ]
  },
  {
   "cell_type": "markdown",
   "metadata": {},
   "source": [
    "#### Equalizando a base de dados"
   ]
  },
  {
   "cell_type": "code",
   "execution_count": 270,
   "metadata": {},
   "outputs": [
    {
     "data": {
      "text/html": [
       "<div>\n",
       "<style scoped>\n",
       "    .dataframe tbody tr th:only-of-type {\n",
       "        vertical-align: middle;\n",
       "    }\n",
       "\n",
       "    .dataframe tbody tr th {\n",
       "        vertical-align: top;\n",
       "    }\n",
       "\n",
       "    .dataframe thead th {\n",
       "        text-align: right;\n",
       "    }\n",
       "</style>\n",
       "<table border=\"1\" class=\"dataframe\">\n",
       "  <thead>\n",
       "    <tr style=\"text-align: right;\">\n",
       "      <th></th>\n",
       "      <th>Unnamed: 0</th>\n",
       "      <th>NU_INSCRICAO</th>\n",
       "      <th>TP_FAIXA_ETARIA</th>\n",
       "      <th>TP_SEXO</th>\n",
       "      <th>TP_ESTADO_CIVIL</th>\n",
       "      <th>TP_COR_RACA</th>\n",
       "      <th>TP_ESCOLA</th>\n",
       "      <th>IN_TREINEIRO</th>\n",
       "      <th>TP_PRESENCA_CN</th>\n",
       "      <th>TP_PRESENCA_CH</th>\n",
       "      <th>TP_PRESENCA_LC</th>\n",
       "      <th>TP_PRESENCA_MT</th>\n",
       "      <th>NU_NOTA_CN</th>\n",
       "      <th>NU_NOTA_CH</th>\n",
       "      <th>NU_NOTA_LC</th>\n",
       "      <th>NU_NOTA_MT</th>\n",
       "      <th>TP_STATUS_REDACAO</th>\n",
       "      <th>NU_NOTA_REDACAO</th>\n",
       "      <th>PRESENCA_PRIMEIRO_DIA</th>\n",
       "      <th>PRESENCA_SEGUNDO_DIA</th>\n",
       "    </tr>\n",
       "  </thead>\n",
       "  <tbody>\n",
       "    <tr>\n",
       "      <th>720674</th>\n",
       "      <td>930943</td>\n",
       "      <td>210061069108</td>\n",
       "      <td>17 anos</td>\n",
       "      <td>Feminino</td>\n",
       "      <td>Solteiro(a)</td>\n",
       "      <td>Parda</td>\n",
       "      <td>Não Respondeu</td>\n",
       "      <td>Sim</td>\n",
       "      <td>Presente na prova</td>\n",
       "      <td>Presente na prova</td>\n",
       "      <td>Presente na prova</td>\n",
       "      <td>Presente na prova</td>\n",
       "      <td>501.9</td>\n",
       "      <td>567.0</td>\n",
       "      <td>546.2</td>\n",
       "      <td>374.1</td>\n",
       "      <td>Sem problemas</td>\n",
       "      <td>620.0</td>\n",
       "      <td>Presente</td>\n",
       "      <td>Presente</td>\n",
       "    </tr>\n",
       "    <tr>\n",
       "      <th>2446934</th>\n",
       "      <td>3310877</td>\n",
       "      <td>210061717887</td>\n",
       "      <td>20 anos</td>\n",
       "      <td>Feminino</td>\n",
       "      <td>Solteiro(a)</td>\n",
       "      <td>Preta</td>\n",
       "      <td>Não Respondeu</td>\n",
       "      <td>Não</td>\n",
       "      <td>Faltou</td>\n",
       "      <td>Presente na prova</td>\n",
       "      <td>Presente na prova</td>\n",
       "      <td>Faltou</td>\n",
       "      <td>NaN</td>\n",
       "      <td>364.5</td>\n",
       "      <td>353.9</td>\n",
       "      <td>NaN</td>\n",
       "      <td>Sem problemas</td>\n",
       "      <td>480.0</td>\n",
       "      <td>Presente</td>\n",
       "      <td>Faltou</td>\n",
       "    </tr>\n",
       "    <tr>\n",
       "      <th>758274</th>\n",
       "      <td>984175</td>\n",
       "      <td>210060489849</td>\n",
       "      <td>17 anos</td>\n",
       "      <td>Feminino</td>\n",
       "      <td>Solteiro(a)</td>\n",
       "      <td>Parda</td>\n",
       "      <td>Pública</td>\n",
       "      <td>Não</td>\n",
       "      <td>Presente na prova</td>\n",
       "      <td>Presente na prova</td>\n",
       "      <td>Presente na prova</td>\n",
       "      <td>Presente na prova</td>\n",
       "      <td>434.3</td>\n",
       "      <td>534.7</td>\n",
       "      <td>508.9</td>\n",
       "      <td>402.4</td>\n",
       "      <td>Sem problemas</td>\n",
       "      <td>940.0</td>\n",
       "      <td>Presente</td>\n",
       "      <td>Presente</td>\n",
       "    </tr>\n",
       "    <tr>\n",
       "      <th>903861</th>\n",
       "      <td>1179798</td>\n",
       "      <td>210059811132</td>\n",
       "      <td>Entre 41 e 45 anos</td>\n",
       "      <td>Feminino</td>\n",
       "      <td>Solteiro(a)</td>\n",
       "      <td>Branca</td>\n",
       "      <td>Pública</td>\n",
       "      <td>Não</td>\n",
       "      <td>Faltou</td>\n",
       "      <td>Presente na prova</td>\n",
       "      <td>Presente na prova</td>\n",
       "      <td>Faltou</td>\n",
       "      <td>NaN</td>\n",
       "      <td>464.9</td>\n",
       "      <td>465.1</td>\n",
       "      <td>NaN</td>\n",
       "      <td>Sem problemas</td>\n",
       "      <td>580.0</td>\n",
       "      <td>Presente</td>\n",
       "      <td>Faltou</td>\n",
       "    </tr>\n",
       "    <tr>\n",
       "      <th>806257</th>\n",
       "      <td>1047280</td>\n",
       "      <td>210061121408</td>\n",
       "      <td>Entre 56 e 60 anos</td>\n",
       "      <td>Feminino</td>\n",
       "      <td>Viúvo(a)</td>\n",
       "      <td>Branca</td>\n",
       "      <td>Não Respondeu</td>\n",
       "      <td>Não</td>\n",
       "      <td>Presente na prova</td>\n",
       "      <td>Presente na prova</td>\n",
       "      <td>Presente na prova</td>\n",
       "      <td>Presente na prova</td>\n",
       "      <td>463.6</td>\n",
       "      <td>514.6</td>\n",
       "      <td>456.5</td>\n",
       "      <td>437.4</td>\n",
       "      <td>Sem problemas</td>\n",
       "      <td>440.0</td>\n",
       "      <td>Presente</td>\n",
       "      <td>Presente</td>\n",
       "    </tr>\n",
       "    <tr>\n",
       "      <th>...</th>\n",
       "      <td>...</td>\n",
       "      <td>...</td>\n",
       "      <td>...</td>\n",
       "      <td>...</td>\n",
       "      <td>...</td>\n",
       "      <td>...</td>\n",
       "      <td>...</td>\n",
       "      <td>...</td>\n",
       "      <td>...</td>\n",
       "      <td>...</td>\n",
       "      <td>...</td>\n",
       "      <td>...</td>\n",
       "      <td>...</td>\n",
       "      <td>...</td>\n",
       "      <td>...</td>\n",
       "      <td>...</td>\n",
       "      <td>...</td>\n",
       "      <td>...</td>\n",
       "      <td>...</td>\n",
       "      <td>...</td>\n",
       "    </tr>\n",
       "    <tr>\n",
       "      <th>2613173</th>\n",
       "      <td>3570748</td>\n",
       "      <td>210061749136</td>\n",
       "      <td>17 anos</td>\n",
       "      <td>Feminino</td>\n",
       "      <td>Solteiro(a)</td>\n",
       "      <td>Branca</td>\n",
       "      <td>Não Respondeu</td>\n",
       "      <td>Sim</td>\n",
       "      <td>Presente na prova</td>\n",
       "      <td>Presente na prova</td>\n",
       "      <td>Presente na prova</td>\n",
       "      <td>Presente na prova</td>\n",
       "      <td>523.0</td>\n",
       "      <td>570.0</td>\n",
       "      <td>568.1</td>\n",
       "      <td>553.7</td>\n",
       "      <td>Sem problemas</td>\n",
       "      <td>820.0</td>\n",
       "      <td>Presente</td>\n",
       "      <td>Presente</td>\n",
       "    </tr>\n",
       "    <tr>\n",
       "      <th>1809074</th>\n",
       "      <td>2390311</td>\n",
       "      <td>210058745264</td>\n",
       "      <td>19 anos</td>\n",
       "      <td>Feminino</td>\n",
       "      <td>Solteiro(a)</td>\n",
       "      <td>Parda</td>\n",
       "      <td>Pública</td>\n",
       "      <td>Não</td>\n",
       "      <td>Faltou</td>\n",
       "      <td>Presente na prova</td>\n",
       "      <td>Presente na prova</td>\n",
       "      <td>Faltou</td>\n",
       "      <td>NaN</td>\n",
       "      <td>398.1</td>\n",
       "      <td>500.0</td>\n",
       "      <td>NaN</td>\n",
       "      <td>Sem problemas</td>\n",
       "      <td>620.0</td>\n",
       "      <td>Presente</td>\n",
       "      <td>Faltou</td>\n",
       "    </tr>\n",
       "    <tr>\n",
       "      <th>1688480</th>\n",
       "      <td>2232048</td>\n",
       "      <td>210060720184</td>\n",
       "      <td>Entre 31 e 40 anos</td>\n",
       "      <td>Masculino</td>\n",
       "      <td>Solteiro(a)</td>\n",
       "      <td>Branca</td>\n",
       "      <td>Não Respondeu</td>\n",
       "      <td>Não</td>\n",
       "      <td>Presente na prova</td>\n",
       "      <td>Presente na prova</td>\n",
       "      <td>Presente na prova</td>\n",
       "      <td>Presente na prova</td>\n",
       "      <td>627.7</td>\n",
       "      <td>584.9</td>\n",
       "      <td>585.5</td>\n",
       "      <td>580.3</td>\n",
       "      <td>Sem problemas</td>\n",
       "      <td>640.0</td>\n",
       "      <td>Presente</td>\n",
       "      <td>Presente</td>\n",
       "    </tr>\n",
       "    <tr>\n",
       "      <th>2612420</th>\n",
       "      <td>3569455</td>\n",
       "      <td>210061815135</td>\n",
       "      <td>18 anos</td>\n",
       "      <td>Feminino</td>\n",
       "      <td>Solteiro(a)</td>\n",
       "      <td>Branca</td>\n",
       "      <td>Privada</td>\n",
       "      <td>Não</td>\n",
       "      <td>Faltou</td>\n",
       "      <td>Presente na prova</td>\n",
       "      <td>Presente na prova</td>\n",
       "      <td>Faltou</td>\n",
       "      <td>NaN</td>\n",
       "      <td>599.0</td>\n",
       "      <td>575.4</td>\n",
       "      <td>NaN</td>\n",
       "      <td>Sem problemas</td>\n",
       "      <td>620.0</td>\n",
       "      <td>Presente</td>\n",
       "      <td>Faltou</td>\n",
       "    </tr>\n",
       "    <tr>\n",
       "      <th>1462073</th>\n",
       "      <td>1929223</td>\n",
       "      <td>210061257470</td>\n",
       "      <td>Menor de 17 anos</td>\n",
       "      <td>Feminino</td>\n",
       "      <td>Solteiro(a)</td>\n",
       "      <td>Branca</td>\n",
       "      <td>Não Respondeu</td>\n",
       "      <td>Sim</td>\n",
       "      <td>Faltou</td>\n",
       "      <td>Presente na prova</td>\n",
       "      <td>Presente na prova</td>\n",
       "      <td>Faltou</td>\n",
       "      <td>NaN</td>\n",
       "      <td>464.1</td>\n",
       "      <td>515.2</td>\n",
       "      <td>NaN</td>\n",
       "      <td>Sem problemas</td>\n",
       "      <td>820.0</td>\n",
       "      <td>Presente</td>\n",
       "      <td>Faltou</td>\n",
       "    </tr>\n",
       "  </tbody>\n",
       "</table>\n",
       "<p>284438 rows × 20 columns</p>\n",
       "</div>"
      ],
      "text/plain": [
       "         Unnamed: 0  NU_INSCRICAO     TP_FAIXA_ETARIA    TP_SEXO  \\\n",
       "720674       930943  210061069108             17 anos   Feminino   \n",
       "2446934     3310877  210061717887             20 anos   Feminino   \n",
       "758274       984175  210060489849             17 anos   Feminino   \n",
       "903861      1179798  210059811132  Entre 41 e 45 anos   Feminino   \n",
       "806257      1047280  210061121408  Entre 56 e 60 anos   Feminino   \n",
       "...             ...           ...                 ...        ...   \n",
       "2613173     3570748  210061749136             17 anos   Feminino   \n",
       "1809074     2390311  210058745264             19 anos   Feminino   \n",
       "1688480     2232048  210060720184  Entre 31 e 40 anos  Masculino   \n",
       "2612420     3569455  210061815135             18 anos   Feminino   \n",
       "1462073     1929223  210061257470    Menor de 17 anos   Feminino   \n",
       "\n",
       "        TP_ESTADO_CIVIL TP_COR_RACA      TP_ESCOLA IN_TREINEIRO  \\\n",
       "720674      Solteiro(a)       Parda  Não Respondeu          Sim   \n",
       "2446934     Solteiro(a)       Preta  Não Respondeu          Não   \n",
       "758274      Solteiro(a)       Parda        Pública          Não   \n",
       "903861      Solteiro(a)      Branca        Pública          Não   \n",
       "806257         Viúvo(a)      Branca  Não Respondeu          Não   \n",
       "...                 ...         ...            ...          ...   \n",
       "2613173     Solteiro(a)      Branca  Não Respondeu          Sim   \n",
       "1809074     Solteiro(a)       Parda        Pública          Não   \n",
       "1688480     Solteiro(a)      Branca  Não Respondeu          Não   \n",
       "2612420     Solteiro(a)      Branca        Privada          Não   \n",
       "1462073     Solteiro(a)      Branca  Não Respondeu          Sim   \n",
       "\n",
       "            TP_PRESENCA_CN     TP_PRESENCA_CH     TP_PRESENCA_LC  \\\n",
       "720674   Presente na prova  Presente na prova  Presente na prova   \n",
       "2446934             Faltou  Presente na prova  Presente na prova   \n",
       "758274   Presente na prova  Presente na prova  Presente na prova   \n",
       "903861              Faltou  Presente na prova  Presente na prova   \n",
       "806257   Presente na prova  Presente na prova  Presente na prova   \n",
       "...                    ...                ...                ...   \n",
       "2613173  Presente na prova  Presente na prova  Presente na prova   \n",
       "1809074             Faltou  Presente na prova  Presente na prova   \n",
       "1688480  Presente na prova  Presente na prova  Presente na prova   \n",
       "2612420             Faltou  Presente na prova  Presente na prova   \n",
       "1462073             Faltou  Presente na prova  Presente na prova   \n",
       "\n",
       "            TP_PRESENCA_MT  NU_NOTA_CN  NU_NOTA_CH  NU_NOTA_LC  NU_NOTA_MT  \\\n",
       "720674   Presente na prova       501.9       567.0       546.2       374.1   \n",
       "2446934             Faltou         NaN       364.5       353.9         NaN   \n",
       "758274   Presente na prova       434.3       534.7       508.9       402.4   \n",
       "903861              Faltou         NaN       464.9       465.1         NaN   \n",
       "806257   Presente na prova       463.6       514.6       456.5       437.4   \n",
       "...                    ...         ...         ...         ...         ...   \n",
       "2613173  Presente na prova       523.0       570.0       568.1       553.7   \n",
       "1809074             Faltou         NaN       398.1       500.0         NaN   \n",
       "1688480  Presente na prova       627.7       584.9       585.5       580.3   \n",
       "2612420             Faltou         NaN       599.0       575.4         NaN   \n",
       "1462073             Faltou         NaN       464.1       515.2         NaN   \n",
       "\n",
       "        TP_STATUS_REDACAO  NU_NOTA_REDACAO PRESENCA_PRIMEIRO_DIA  \\\n",
       "720674      Sem problemas            620.0              Presente   \n",
       "2446934     Sem problemas            480.0              Presente   \n",
       "758274      Sem problemas            940.0              Presente   \n",
       "903861      Sem problemas            580.0              Presente   \n",
       "806257      Sem problemas            440.0              Presente   \n",
       "...                   ...              ...                   ...   \n",
       "2613173     Sem problemas            820.0              Presente   \n",
       "1809074     Sem problemas            620.0              Presente   \n",
       "1688480     Sem problemas            640.0              Presente   \n",
       "2612420     Sem problemas            620.0              Presente   \n",
       "1462073     Sem problemas            820.0              Presente   \n",
       "\n",
       "        PRESENCA_SEGUNDO_DIA  \n",
       "720674              Presente  \n",
       "2446934               Faltou  \n",
       "758274              Presente  \n",
       "903861                Faltou  \n",
       "806257              Presente  \n",
       "...                      ...  \n",
       "2613173             Presente  \n",
       "1809074               Faltou  \n",
       "1688480             Presente  \n",
       "2612420               Faltou  \n",
       "1462073               Faltou  \n",
       "\n",
       "[284438 rows x 20 columns]"
      ]
     },
     "execution_count": 270,
     "metadata": {},
     "output_type": "execute_result"
    }
   ],
   "source": [
    "faltou = df_faltou_dia_2\n",
    "# Selecionando aleatoriamente uma quantidade de alunos presentes no segundo dia de prova\n",
    "presentes_aleatorios = df_presente_dia_2.sample(n=142219, random_state=1)\n",
    "\n",
    "# Concatenando os dois DataFrame e misturando as linhas da concatenação \n",
    "df_novo = pd.concat([faltou, presentes_aleatorios])\n",
    "df_novo = df_novo.sample(frac=1, random_state=17)\n",
    "df_novo\n",
    "\n"
   ]
  },
  {
   "cell_type": "markdown",
   "metadata": {},
   "source": [
    "Como a base de dados possuia um desequilíbrio de quantidade de alunos presentes e faltosos no segundo dia de prova, o modelo estava aprendendo muito mais sobre os alunos presentes e mesmo possuindo uma acurácia acima de 90% o modelo praticamente não acertava sobre os alunos faltosos, classificando a maioria desses como presentes. Diante disso, foi necessário equalizar a base de dados, selecionando quantidades iguais de cada rótulo, isto é, sorteou-se, aleatoriamente, uma quantidade de alunos presentes determinada pela quantidade de alunos faltosos, formando uma base de dados com 50% de alunos faltosos e 50% de alunos presentes.\n",
    "\n",
    "Com isso feito, seguiu-se a formatação da base de dados para a aplicação dos modelos estatisticos."
   ]
  },
  {
   "cell_type": "markdown",
   "metadata": {},
   "source": [
    "#### Transformando em Dummies"
   ]
  },
  {
   "cell_type": "code",
   "execution_count": 271,
   "metadata": {},
   "outputs": [
    {
     "data": {
      "text/plain": [
       "NU_INSCRICAO                                                 int64\n",
       "NU_NOTA_CN                                                 float64\n",
       "NU_NOTA_CH                                                 float64\n",
       "NU_NOTA_LC                                                 float64\n",
       "NU_NOTA_MT                                                 float64\n",
       "NU_NOTA_REDACAO                                            float64\n",
       "TP_FAIXA_ETARIA_17 anos                                      uint8\n",
       "TP_FAIXA_ETARIA_18 anos                                      uint8\n",
       "TP_FAIXA_ETARIA_19 anos                                      uint8\n",
       "TP_FAIXA_ETARIA_20 anos                                      uint8\n",
       "TP_FAIXA_ETARIA_21 anos                                      uint8\n",
       "TP_FAIXA_ETARIA_22 anos                                      uint8\n",
       "TP_FAIXA_ETARIA_23 anos                                      uint8\n",
       "TP_FAIXA_ETARIA_24 anos                                      uint8\n",
       "TP_FAIXA_ETARIA_25 anos                                      uint8\n",
       "TP_FAIXA_ETARIA_Entre 26 e 30 anos                           uint8\n",
       "TP_FAIXA_ETARIA_Entre 31 e 40 anos                           uint8\n",
       "TP_FAIXA_ETARIA_Entre 36 e 40 anos                           uint8\n",
       "TP_FAIXA_ETARIA_Entre 41 e 45 anos                           uint8\n",
       "TP_FAIXA_ETARIA_Entre 46 e 50 anos                           uint8\n",
       "TP_FAIXA_ETARIA_Entre 51 e 55 anos                           uint8\n",
       "TP_FAIXA_ETARIA_Entre 56 e 60 anos                           uint8\n",
       "TP_FAIXA_ETARIA_Entre 61 e 65 anos                           uint8\n",
       "TP_FAIXA_ETARIA_Entre 66 e 70 anos                           uint8\n",
       "TP_FAIXA_ETARIA_Mais de 70 anos                              uint8\n",
       "TP_FAIXA_ETARIA_Menor de 17 anos                             uint8\n",
       "TP_SEXO_Feminino                                             uint8\n",
       "TP_SEXO_Masculino                                            uint8\n",
       "TP_ESTADO_CIVIL_Casado(a)/Mora com companheiro(a)            uint8\n",
       "TP_ESTADO_CIVIL_Divorciado(a)/Desquitado(a)/Separado(a)      uint8\n",
       "TP_ESTADO_CIVIL_Não informado                                uint8\n",
       "TP_ESTADO_CIVIL_Solteiro(a)                                  uint8\n",
       "TP_ESTADO_CIVIL_Viúvo(a)                                     uint8\n",
       "TP_COR_RACA_Amarela                                          uint8\n",
       "TP_COR_RACA_Branca                                           uint8\n",
       "TP_COR_RACA_Indígena                                         uint8\n",
       "TP_COR_RACA_Não declarado                                    uint8\n",
       "TP_COR_RACA_Parda                                            uint8\n",
       "TP_COR_RACA_Preta                                            uint8\n",
       "TP_ESCOLA_Não Respondeu                                      uint8\n",
       "TP_ESCOLA_Privada                                            uint8\n",
       "TP_ESCOLA_Pública                                            uint8\n",
       "IN_TREINEIRO_Não                                             uint8\n",
       "IN_TREINEIRO_Sim                                             uint8\n",
       "TP_STATUS_REDACAO_Anulada                                    uint8\n",
       "TP_STATUS_REDACAO_Cópia Texto Motivador                      uint8\n",
       "TP_STATUS_REDACAO_Em Branco                                  uint8\n",
       "TP_STATUS_REDACAO_Fuga ao tema                               uint8\n",
       "TP_STATUS_REDACAO_Não atendimento ao tipo textual            uint8\n",
       "TP_STATUS_REDACAO_Parte desconectada                         uint8\n",
       "TP_STATUS_REDACAO_Sem problemas                              uint8\n",
       "TP_STATUS_REDACAO_Texto insuficiente                         uint8\n",
       "PRESENCA_SEGUNDO_DIA_Faltou                                  uint8\n",
       "PRESENCA_SEGUNDO_DIA_Presente                                uint8\n",
       "dtype: object"
      ]
     },
     "execution_count": 271,
     "metadata": {},
     "output_type": "execute_result"
    }
   ],
   "source": [
    "# Passando as variáveis qualitativas para dummies\n",
    "df_dummies = pd.get_dummies(df_novo, columns=['TP_FAIXA_ETARIA','TP_SEXO','TP_ESTADO_CIVIL','TP_COR_RACA','TP_ESCOLA','IN_TREINEIRO','TP_STATUS_REDACAO', 'PRESENCA_SEGUNDO_DIA'])\n",
    "\n",
    "df_dummies = df_dummies.drop(['TP_PRESENCA_CN', 'TP_PRESENCA_CH', 'TP_PRESENCA_LC', 'TP_PRESENCA_MT'], axis=1)\n",
    "df_dummies = df_dummies.drop(['Unnamed: 0','PRESENCA_PRIMEIRO_DIA'], axis=1)\n",
    "df_dummies.dtypes\n"
   ]
  },
  {
   "cell_type": "markdown",
   "metadata": {},
   "source": [
    "Já que os modelos estatísticos precisariam de valores numéricos para funcionarem e as colunas qualitativas estavam preenchidos com rótulos, foi aplicado a função get_dummies e foram dropadas algumas linhas que não seriam utilizadas pelos modelos."
   ]
  },
  {
   "cell_type": "markdown",
   "metadata": {},
   "source": [
    "#### Separando a base em Treino e teste"
   ]
  },
  {
   "cell_type": "code",
   "execution_count": 272,
   "metadata": {},
   "outputs": [],
   "source": [
    "# Separando a base de dados em treino e teste\n",
    "X = df_dummies.drop(['PRESENCA_SEGUNDO_DIA_Faltou','PRESENCA_SEGUNDO_DIA_Presente', 'NU_INSCRICAO', 'NU_NOTA_MT', 'NU_NOTA_CN'], axis=1).values\n",
    "y = df_dummies['PRESENCA_SEGUNDO_DIA_Presente'].values\n",
    "\n",
    "X_train, X_test, y_train, y_test = train_test_split(X, y, test_size=0.25, random_state=1)"
   ]
  },
  {
   "cell_type": "markdown",
   "metadata": {},
   "source": [
    "#### Regressão Logística"
   ]
  },
  {
   "cell_type": "markdown",
   "metadata": {},
   "source": [
    "Aplicando o modelo"
   ]
  },
  {
   "cell_type": "code",
   "execution_count": 273,
   "metadata": {},
   "outputs": [],
   "source": [
    "lr = LogisticRegression(max_iter=1000)\n",
    "lr.fit(X_train, y_train)\n",
    "lr_y_pred_train = lr.predict(X_train)\n",
    "lr_yhat = lr.predict(X_test)"
   ]
  },
  {
   "cell_type": "markdown",
   "metadata": {},
   "source": [
    "Analisando a acurácia dos dados de treinamento\n"
   ]
  },
  {
   "cell_type": "code",
   "execution_count": 274,
   "metadata": {},
   "outputs": [
    {
     "name": "stdout",
     "output_type": "stream",
     "text": [
      "Acurácia dos dados de treinamento: 0.6628759468986725\n"
     ]
    }
   ],
   "source": [
    "acuracia_train_lr = accuracy_score(y_train, lr_y_pred_train)\n",
    "print(f'Acurácia dos dados de treinamento: {acuracia_train_lr}')"
   ]
  },
  {
   "cell_type": "code",
   "execution_count": 275,
   "metadata": {},
   "outputs": [
    {
     "data": {
      "image/png": "[encoded data removed]",
      "text/plain": [
       "<Figure size 800x600 with 2 Axes>"
      ]
     },
     "metadata": {},
     "output_type": "display_data"
    }
   ],
   "source": [
    "confusion_matrix_train_lr = confusion_matrix(y_train, lr_y_pred_train)\n",
    "\n",
    "plt.figure(figsize=(8,6))\n",
    "sns.heatmap(confusion_matrix_train_lr, annot=True, fmt='d', cmap='Blues', vmin=0, vmax=100000)\n",
    "plt.xlabel('Previsão')\n",
    "plt.ylabel('Verdadeiro')\n",
    "plt.title('Matriz de Confusão nos Dados de Treinamento')\n",
    "plt.show()"
   ]
  },
  {
   "cell_type": "code",
   "execution_count": 276,
   "metadata": {},
   "outputs": [
    {
     "data": {
      "text/html": [
       "<div>\n",
       "<style scoped>\n",
       "    .dataframe tbody tr th:only-of-type {\n",
       "        vertical-align: middle;\n",
       "    }\n",
       "\n",
       "    .dataframe tbody tr th {\n",
       "        vertical-align: top;\n",
       "    }\n",
       "\n",
       "    .dataframe thead th {\n",
       "        text-align: right;\n",
       "    }\n",
       "</style>\n",
       "<table border=\"1\" class=\"dataframe\">\n",
       "  <thead>\n",
       "    <tr style=\"text-align: right;\">\n",
       "      <th>col_0</th>\n",
       "      <th>0</th>\n",
       "      <th>1</th>\n",
       "    </tr>\n",
       "    <tr>\n",
       "      <th>row_0</th>\n",
       "      <th></th>\n",
       "      <th></th>\n",
       "    </tr>\n",
       "  </thead>\n",
       "  <tbody>\n",
       "    <tr>\n",
       "      <th>0</th>\n",
       "      <td>32.6</td>\n",
       "      <td>17.3</td>\n",
       "    </tr>\n",
       "    <tr>\n",
       "      <th>1</th>\n",
       "      <td>16.4</td>\n",
       "      <td>33.7</td>\n",
       "    </tr>\n",
       "  </tbody>\n",
       "</table>\n",
       "</div>"
      ],
      "text/plain": [
       "col_0     0     1\n",
       "row_0            \n",
       "0      32.6  17.3\n",
       "1      16.4  33.7"
      ]
     },
     "execution_count": 276,
     "metadata": {},
     "output_type": "execute_result"
    }
   ],
   "source": [
    "pd.crosstab(y_train, lr_y_pred_train, normalize=True).round(3)*100"
   ]
  },
  {
   "cell_type": "markdown",
   "metadata": {},
   "source": [
    "Analisando a acurácia dos dados de teste"
   ]
  },
  {
   "cell_type": "code",
   "execution_count": 277,
   "metadata": {},
   "outputs": [
    {
     "name": "stdout",
     "output_type": "stream",
     "text": [
      "0.6650260160315005\n"
     ]
    }
   ],
   "source": [
    "# Acurárcia\n",
    "acuracia_lr = accuracy_score(y_test, lr_yhat)\n",
    "print(acuracia_lr)"
   ]
  },
  {
   "cell_type": "code",
   "execution_count": 278,
   "metadata": {},
   "outputs": [
    {
     "data": {
      "image/png": "[encoded data removed]",
      "text/plain": [
       "<Figure size 800x600 with 2 Axes>"
      ]
     },
     "metadata": {},
     "output_type": "display_data"
    }
   ],
   "source": [
    "confusion_matrix_test_lr = confusion_matrix(y_test, lr_yhat)\n",
    "\n",
    "plt.figure(figsize=(8,6))\n",
    "sns.heatmap(confusion_matrix_test_lr, annot=True, fmt='d', cmap='Blues', vmin=0, vmax=35000)\n",
    "plt.xlabel('Previsão')\n",
    "plt.ylabel('Verdadeiro')\n",
    "plt.title('Matriz de Confusão nos Dados de Treinamento')\n",
    "plt.show()"
   ]
  },
  {
   "cell_type": "code",
   "execution_count": 279,
   "metadata": {},
   "outputs": [
    {
     "data": {
      "text/html": [
       "<div>\n",
       "<style scoped>\n",
       "    .dataframe tbody tr th:only-of-type {\n",
       "        vertical-align: middle;\n",
       "    }\n",
       "\n",
       "    .dataframe tbody tr th {\n",
       "        vertical-align: top;\n",
       "    }\n",
       "\n",
       "    .dataframe thead th {\n",
       "        text-align: right;\n",
       "    }\n",
       "</style>\n",
       "<table border=\"1\" class=\"dataframe\">\n",
       "  <thead>\n",
       "    <tr style=\"text-align: right;\">\n",
       "      <th>col_0</th>\n",
       "      <th>0</th>\n",
       "      <th>1</th>\n",
       "    </tr>\n",
       "    <tr>\n",
       "      <th>row_0</th>\n",
       "      <th></th>\n",
       "      <th></th>\n",
       "    </tr>\n",
       "  </thead>\n",
       "  <tbody>\n",
       "    <tr>\n",
       "      <th>0</th>\n",
       "      <td>32.8</td>\n",
       "      <td>17.3</td>\n",
       "    </tr>\n",
       "    <tr>\n",
       "      <th>1</th>\n",
       "      <td>16.2</td>\n",
       "      <td>33.7</td>\n",
       "    </tr>\n",
       "  </tbody>\n",
       "</table>\n",
       "</div>"
      ],
      "text/plain": [
       "col_0     0     1\n",
       "row_0            \n",
       "0      32.8  17.3\n",
       "1      16.2  33.7"
      ]
     },
     "execution_count": 279,
     "metadata": {},
     "output_type": "execute_result"
    }
   ],
   "source": [
    "pd.crosstab(y_test, lr_yhat, normalize=True).round(3)*100"
   ]
  },
  {
   "cell_type": "code",
   "execution_count": 280,
   "metadata": {},
   "outputs": [
    {
     "name": "stdout",
     "output_type": "stream",
     "text": [
      "0.6679121124247156\n"
     ]
    }
   ],
   "source": [
    "# F1 score\n",
    "f1score_lr = f1_score(y_test, lr_yhat)\n",
    "print(f1score_lr)"
   ]
  },
  {
   "cell_type": "markdown",
   "metadata": {},
   "source": [
    "Com o modelo de regressão logística, foi possível chegar em uma acurácia de 66%, no entanto, agora, há um equilíbrio entre os acertos de classificação de presentes e ausentes. Dessa forma, abdicou-se de uma alta acurácia, que era fictícia, já que se aplicado o modelo na base de dados normal, haveria um baixo índice de acerto de pessoas faltosas, isto é, a alta acurácia estava sendo elevada pela alta quantidade de pessoas presentes em relação à faltosas. Agora, com o ajuste feito, é possível classificar corretamente, aproximadamente, dois terços tanto de faltosos, como de presentes, como é possível notar na matriz de confusion e no crosstab realizado acima."
   ]
  },
  {
   "cell_type": "markdown",
   "metadata": {},
   "source": [
    "#### Random Forest"
   ]
  },
  {
   "cell_type": "markdown",
   "metadata": {},
   "source": [
    "Aplicando o modelo"
   ]
  },
  {
   "cell_type": "code",
   "execution_count": 281,
   "metadata": {},
   "outputs": [],
   "source": [
    "rf = RandomForestClassifier(10)\n",
    "rf.fit(X_train, y_train)\n",
    "rf_y_pred_train = rf.predict(X_train)\n",
    "rf_yhat = rf.predict(X_test)"
   ]
  },
  {
   "cell_type": "markdown",
   "metadata": {},
   "source": [
    "Avaliando a acurácia dos dados de treinamento"
   ]
  },
  {
   "cell_type": "code",
   "execution_count": 282,
   "metadata": {},
   "outputs": [
    {
     "name": "stdout",
     "output_type": "stream",
     "text": [
      "Acurácia dos dados de treinamento: 0.9783197704942623\n"
     ]
    }
   ],
   "source": [
    "acuracia_train_rf = accuracy_score(y_train, rf_y_pred_train)\n",
    "print(f'Acurácia dos dados de treinamento: {acuracia_train_rf}')"
   ]
  },
  {
   "cell_type": "code",
   "execution_count": 283,
   "metadata": {},
   "outputs": [
    {
     "data": {
      "image/png": "[encoded data removed]",
      "text/plain": [
       "<Figure size 800x600 with 2 Axes>"
      ]
     },
     "metadata": {},
     "output_type": "display_data"
    }
   ],
   "source": [
    "confusion_matrix_train_rf = confusion_matrix(y_train, rf_y_pred_train)\n",
    "\n",
    "plt.figure(figsize=(8,6))\n",
    "sns.heatmap(confusion_matrix_train_rf, annot=True, fmt='d', cmap='Blues', vmin=0, vmax=100000)\n",
    "plt.xlabel('Previsão')\n",
    "plt.ylabel('Verdadeiro')\n",
    "plt.title('Matriz de Confusão nos Dados de Treinamento')\n",
    "plt.show()"
   ]
  },
  {
   "cell_type": "code",
   "execution_count": 284,
   "metadata": {},
   "outputs": [
    {
     "data": {
      "text/html": [
       "<div>\n",
       "<style scoped>\n",
       "    .dataframe tbody tr th:only-of-type {\n",
       "        vertical-align: middle;\n",
       "    }\n",
       "\n",
       "    .dataframe tbody tr th {\n",
       "        vertical-align: top;\n",
       "    }\n",
       "\n",
       "    .dataframe thead th {\n",
       "        text-align: right;\n",
       "    }\n",
       "</style>\n",
       "<table border=\"1\" class=\"dataframe\">\n",
       "  <thead>\n",
       "    <tr style=\"text-align: right;\">\n",
       "      <th>col_0</th>\n",
       "      <th>0</th>\n",
       "      <th>1</th>\n",
       "    </tr>\n",
       "    <tr>\n",
       "      <th>row_0</th>\n",
       "      <th></th>\n",
       "      <th></th>\n",
       "    </tr>\n",
       "  </thead>\n",
       "  <tbody>\n",
       "    <tr>\n",
       "      <th>0</th>\n",
       "      <td>49.5</td>\n",
       "      <td>0.4</td>\n",
       "    </tr>\n",
       "    <tr>\n",
       "      <th>1</th>\n",
       "      <td>1.7</td>\n",
       "      <td>48.3</td>\n",
       "    </tr>\n",
       "  </tbody>\n",
       "</table>\n",
       "</div>"
      ],
      "text/plain": [
       "col_0     0     1\n",
       "row_0            \n",
       "0      49.5   0.4\n",
       "1       1.7  48.3"
      ]
     },
     "execution_count": 284,
     "metadata": {},
     "output_type": "execute_result"
    }
   ],
   "source": [
    "pd.crosstab(y_train, rf_y_pred_train, normalize=True).round(3)*100"
   ]
  },
  {
   "cell_type": "markdown",
   "metadata": {},
   "source": [
    "Avaliando a acurária nos testes"
   ]
  },
  {
   "cell_type": "code",
   "execution_count": 285,
   "metadata": {},
   "outputs": [
    {
     "name": "stdout",
     "output_type": "stream",
     "text": [
      "0.623315989312333\n"
     ]
    }
   ],
   "source": [
    "acuracia_rf = accuracy_score(y_test, rf_yhat)\n",
    "print(acuracia_rf)"
   ]
  },
  {
   "cell_type": "code",
   "execution_count": 286,
   "metadata": {},
   "outputs": [
    {
     "name": "stdout",
     "output_type": "stream",
     "text": [
      "0.5956708127037798\n"
     ]
    }
   ],
   "source": [
    "f1score_rf = f1_score(y_test, rf_yhat)\n",
    "print(f1score_rf)"
   ]
  },
  {
   "cell_type": "code",
   "execution_count": 287,
   "metadata": {},
   "outputs": [
    {
     "data": {
      "image/png": "[encoded data removed]",
      "text/plain": [
       "<Figure size 800x600 with 2 Axes>"
      ]
     },
     "metadata": {},
     "output_type": "display_data"
    }
   ],
   "source": [
    "confusion_matrix_test = confusion_matrix(y_test, rf_yhat)\n",
    "\n",
    "plt.figure(figsize=(8,6))\n",
    "sns.heatmap(confusion_matrix_test, annot=True, fmt='d', cmap='Blues', vmin=0, vmax=35000)\n",
    "plt.xlabel('Previsão')\n",
    "plt.ylabel('Verdadeiro')\n",
    "plt.title('Matriz de Confusão nos Dados de Treinamento')\n",
    "plt.show()"
   ]
  },
  {
   "cell_type": "code",
   "execution_count": 288,
   "metadata": {},
   "outputs": [
    {
     "data": {
      "text/html": [
       "<div>\n",
       "<style scoped>\n",
       "    .dataframe tbody tr th:only-of-type {\n",
       "        vertical-align: middle;\n",
       "    }\n",
       "\n",
       "    .dataframe tbody tr th {\n",
       "        vertical-align: top;\n",
       "    }\n",
       "\n",
       "    .dataframe thead th {\n",
       "        text-align: right;\n",
       "    }\n",
       "</style>\n",
       "<table border=\"1\" class=\"dataframe\">\n",
       "  <thead>\n",
       "    <tr style=\"text-align: right;\">\n",
       "      <th>col_0</th>\n",
       "      <th>0</th>\n",
       "      <th>1</th>\n",
       "    </tr>\n",
       "    <tr>\n",
       "      <th>row_0</th>\n",
       "      <th></th>\n",
       "      <th></th>\n",
       "    </tr>\n",
       "  </thead>\n",
       "  <tbody>\n",
       "    <tr>\n",
       "      <th>0</th>\n",
       "      <td>34.6</td>\n",
       "      <td>15.5</td>\n",
       "    </tr>\n",
       "    <tr>\n",
       "      <th>1</th>\n",
       "      <td>22.2</td>\n",
       "      <td>27.7</td>\n",
       "    </tr>\n",
       "  </tbody>\n",
       "</table>\n",
       "</div>"
      ],
      "text/plain": [
       "col_0     0     1\n",
       "row_0            \n",
       "0      34.6  15.5\n",
       "1      22.2  27.7"
      ]
     },
     "execution_count": 288,
     "metadata": {},
     "output_type": "execute_result"
    }
   ],
   "source": [
    "pd.crosstab(y_test, rf_yhat, normalize=True).round(3)*100"
   ]
  },
  {
   "cell_type": "markdown",
   "metadata": {},
   "source": [
    "Com o Random Forest, estava acontecendo o mesmo problema que havia com o modelo de regressão logística motivado pela desequalização de dados, já consertada. Após a equalização, a acurácia obtida foi de 61%, pouco menor do que a do outro modelo utilizado. Contudo, é possível notar que o Random Forest se mostra mais eficiente para classificar os alunos faltosos do que os presentes, diferentemente do modelo de regressão logística. "
   ]
  },
  {
   "cell_type": "markdown",
   "metadata": {},
   "source": [
    "#### Refazendo os modelos e avaliando a média de performance deles"
   ]
  },
  {
   "cell_type": "code",
   "execution_count": 289,
   "metadata": {},
   "outputs": [
    {
     "ename": "KeyboardInterrupt",
     "evalue": "",
     "output_type": "error",
     "traceback": [
      "\u001b[1;31m---------------------------------------------------------------------------\u001b[0m",
      "\u001b[1;31mKeyboardInterrupt\u001b[0m                         Traceback (most recent call last)",
      "Cell \u001b[1;32mIn[289], line 14\u001b[0m\n\u001b[0;32m     11\u001b[0m df_novo \u001b[38;5;241m=\u001b[39m df_novo\u001b[38;5;241m.\u001b[39msample(frac\u001b[38;5;241m=\u001b[39m\u001b[38;5;241m1\u001b[39m)\n\u001b[0;32m     13\u001b[0m \u001b[38;5;66;03m# Passando as variáveis qualitativas para dummies\u001b[39;00m\n\u001b[1;32m---> 14\u001b[0m df_dummies \u001b[38;5;241m=\u001b[39m pd\u001b[38;5;241m.\u001b[39mget_dummies(df_novo, columns\u001b[38;5;241m=\u001b[39m[\u001b[38;5;124m'\u001b[39m\u001b[38;5;124mTP_FAIXA_ETARIA\u001b[39m\u001b[38;5;124m'\u001b[39m,\u001b[38;5;124m'\u001b[39m\u001b[38;5;124mTP_SEXO\u001b[39m\u001b[38;5;124m'\u001b[39m,\u001b[38;5;124m'\u001b[39m\u001b[38;5;124mTP_ESTADO_CIVIL\u001b[39m\u001b[38;5;124m'\u001b[39m,\u001b[38;5;124m'\u001b[39m\u001b[38;5;124mTP_COR_RACA\u001b[39m\u001b[38;5;124m'\u001b[39m,\u001b[38;5;124m'\u001b[39m\u001b[38;5;124mTP_ESCOLA\u001b[39m\u001b[38;5;124m'\u001b[39m,\u001b[38;5;124m'\u001b[39m\u001b[38;5;124mIN_TREINEIRO\u001b[39m\u001b[38;5;124m'\u001b[39m,\u001b[38;5;124m'\u001b[39m\u001b[38;5;124mTP_STATUS_REDACAO\u001b[39m\u001b[38;5;124m'\u001b[39m, \u001b[38;5;124m'\u001b[39m\u001b[38;5;124mPRESENCA_SEGUNDO_DIA\u001b[39m\u001b[38;5;124m'\u001b[39m])\n\u001b[0;32m     16\u001b[0m df_dummies \u001b[38;5;241m=\u001b[39m df_dummies\u001b[38;5;241m.\u001b[39mdrop([\u001b[38;5;124m'\u001b[39m\u001b[38;5;124mTP_PRESENCA_CN\u001b[39m\u001b[38;5;124m'\u001b[39m, \u001b[38;5;124m'\u001b[39m\u001b[38;5;124mTP_PRESENCA_CH\u001b[39m\u001b[38;5;124m'\u001b[39m, \u001b[38;5;124m'\u001b[39m\u001b[38;5;124mTP_PRESENCA_LC\u001b[39m\u001b[38;5;124m'\u001b[39m, \u001b[38;5;124m'\u001b[39m\u001b[38;5;124mTP_PRESENCA_MT\u001b[39m\u001b[38;5;124m'\u001b[39m], axis\u001b[38;5;241m=\u001b[39m\u001b[38;5;241m1\u001b[39m)\n\u001b[0;32m     17\u001b[0m df_dummies \u001b[38;5;241m=\u001b[39m df_dummies\u001b[38;5;241m.\u001b[39mdrop([\u001b[38;5;124m'\u001b[39m\u001b[38;5;124mUnnamed: 0\u001b[39m\u001b[38;5;124m'\u001b[39m,\u001b[38;5;124m'\u001b[39m\u001b[38;5;124mPRESENCA_PRIMEIRO_DIA\u001b[39m\u001b[38;5;124m'\u001b[39m], axis\u001b[38;5;241m=\u001b[39m\u001b[38;5;241m1\u001b[39m)\n",
      "File \u001b[1;32mc:\\Users\\anton\\anaconda3\\Lib\\site-packages\\pandas\\core\\reshape\\encoding.py:192\u001b[0m, in \u001b[0;36mget_dummies\u001b[1;34m(data, prefix, prefix_sep, dummy_na, columns, sparse, drop_first, dtype)\u001b[0m\n\u001b[0;32m    188\u001b[0m     with_dummies \u001b[38;5;241m=\u001b[39m [data\u001b[38;5;241m.\u001b[39mselect_dtypes(exclude\u001b[38;5;241m=\u001b[39mdtypes_to_encode)]\n\u001b[0;32m    190\u001b[0m \u001b[38;5;28;01mfor\u001b[39;00m (col, pre, sep) \u001b[38;5;129;01min\u001b[39;00m \u001b[38;5;28mzip\u001b[39m(data_to_encode\u001b[38;5;241m.\u001b[39mitems(), prefix, prefix_sep):\n\u001b[0;32m    191\u001b[0m     \u001b[38;5;66;03m# col is (column_name, column), use just column data here\u001b[39;00m\n\u001b[1;32m--> 192\u001b[0m     dummy \u001b[38;5;241m=\u001b[39m _get_dummies_1d(\n\u001b[0;32m    193\u001b[0m         col[\u001b[38;5;241m1\u001b[39m],\n\u001b[0;32m    194\u001b[0m         prefix\u001b[38;5;241m=\u001b[39mpre,\n\u001b[0;32m    195\u001b[0m         prefix_sep\u001b[38;5;241m=\u001b[39msep,\n\u001b[0;32m    196\u001b[0m         dummy_na\u001b[38;5;241m=\u001b[39mdummy_na,\n\u001b[0;32m    197\u001b[0m         sparse\u001b[38;5;241m=\u001b[39msparse,\n\u001b[0;32m    198\u001b[0m         drop_first\u001b[38;5;241m=\u001b[39mdrop_first,\n\u001b[0;32m    199\u001b[0m         dtype\u001b[38;5;241m=\u001b[39mdtype,\n\u001b[0;32m    200\u001b[0m     )\n\u001b[0;32m    201\u001b[0m     with_dummies\u001b[38;5;241m.\u001b[39mappend(dummy)\n\u001b[0;32m    202\u001b[0m result \u001b[38;5;241m=\u001b[39m concat(with_dummies, axis\u001b[38;5;241m=\u001b[39m\u001b[38;5;241m1\u001b[39m)\n",
      "File \u001b[1;32mc:\\Users\\anton\\anaconda3\\Lib\\site-packages\\pandas\\core\\reshape\\encoding.py:311\u001b[0m, in \u001b[0;36m_get_dummies_1d\u001b[1;34m(data, prefix, prefix_sep, dummy_na, sparse, drop_first, dtype)\u001b[0m\n\u001b[0;32m    307\u001b[0m     \u001b[38;5;28;01mreturn\u001b[39;00m concat(sparse_series, axis\u001b[38;5;241m=\u001b[39m\u001b[38;5;241m1\u001b[39m, copy\u001b[38;5;241m=\u001b[39m\u001b[38;5;28;01mFalse\u001b[39;00m)\n\u001b[0;32m    309\u001b[0m \u001b[38;5;28;01melse\u001b[39;00m:\n\u001b[0;32m    310\u001b[0m     \u001b[38;5;66;03m# take on axis=1 + transpose to ensure ndarray layout is column-major\u001b[39;00m\n\u001b[1;32m--> 311\u001b[0m     dummy_mat \u001b[38;5;241m=\u001b[39m np\u001b[38;5;241m.\u001b[39meye(number_of_cols, dtype\u001b[38;5;241m=\u001b[39mdtype)\u001b[38;5;241m.\u001b[39mtake(codes, axis\u001b[38;5;241m=\u001b[39m\u001b[38;5;241m1\u001b[39m)\u001b[38;5;241m.\u001b[39mT\n\u001b[0;32m    313\u001b[0m     \u001b[38;5;28;01mif\u001b[39;00m \u001b[38;5;129;01mnot\u001b[39;00m dummy_na:\n\u001b[0;32m    314\u001b[0m         \u001b[38;5;66;03m# reset NaN GH4446\u001b[39;00m\n\u001b[0;32m    315\u001b[0m         dummy_mat[codes \u001b[38;5;241m==\u001b[39m \u001b[38;5;241m-\u001b[39m\u001b[38;5;241m1\u001b[39m] \u001b[38;5;241m=\u001b[39m \u001b[38;5;241m0\u001b[39m\n",
      "\u001b[1;31mKeyboardInterrupt\u001b[0m: "
     ]
    }
   ],
   "source": [
    "acuracias_lr = []\n",
    "acuracias_rf = []\n",
    "\n",
    "# Montando a lista com valores das acurácias dos modelos\n",
    "for i in range(10):\n",
    "    faltou = df_faltou_dia_2\n",
    "    # Equalizando o DataFrame\n",
    "    presentes_aleatorios = df_presente_dia_2.sample(n=142219)\n",
    "\n",
    "    df_novo = pd.concat([faltou, presentes_aleatorios])\n",
    "    df_novo = df_novo.sample(frac=1)\n",
    "    \n",
    "    # Passando as variáveis qualitativas para dummies\n",
    "    df_dummies = pd.get_dummies(df_novo, columns=['TP_FAIXA_ETARIA','TP_SEXO','TP_ESTADO_CIVIL','TP_COR_RACA','TP_ESCOLA','IN_TREINEIRO','TP_STATUS_REDACAO', 'PRESENCA_SEGUNDO_DIA'])\n",
    "\n",
    "    df_dummies = df_dummies.drop(['TP_PRESENCA_CN', 'TP_PRESENCA_CH', 'TP_PRESENCA_LC', 'TP_PRESENCA_MT'], axis=1)\n",
    "    df_dummies = df_dummies.drop(['Unnamed: 0','PRESENCA_PRIMEIRO_DIA'], axis=1)\n",
    "\n",
    "    # Separando a base de dados em treino e teste\n",
    "    X = df_dummies.drop(['PRESENCA_SEGUNDO_DIA_Faltou','PRESENCA_SEGUNDO_DIA_Presente', 'NU_INSCRICAO', 'NU_NOTA_MT', 'NU_NOTA_CN'], axis=1).values\n",
    "    y = df_dummies['PRESENCA_SEGUNDO_DIA_Presente'].values\n",
    "\n",
    "    X_train, X_test, y_train, y_test = train_test_split(X, y, test_size=0.25)\n",
    "\n",
    "    lr = LogisticRegression(max_iter=1000)\n",
    "    lr.fit(X_train, y_train)\n",
    "    lr_yhat = lr.predict(X_test)\n",
    "\n",
    "    rf = RandomForestClassifier(20)\n",
    "    rf.fit(X_train, y_train)\n",
    "    rf_yhat = rf.predict(X_test)\n",
    "\n",
    "    # Acurárcia\n",
    "    acuracia_lr = accuracy_score(y_test, lr_yhat)\n",
    "    acuracias_lr.append(acuracia_lr)\n",
    "\n",
    "    acuracia_rf = accuracy_score(y_test, rf_yhat)\n",
    "    acuracias_rf.append(acuracia_rf)\n",
    "\n"
   ]
  },
  {
   "cell_type": "code",
   "execution_count": null,
   "metadata": {},
   "outputs": [],
   "source": [
    "# "
   ]
  }
 ],
 "metadata": {
  "kernelspec": {
   "display_name": "base",
   "language": "python",
   "name": "python3"
  },
  "language_info": {
   "codemirror_mode": {
    "name": "ipython",
    "version": 3
   },
   "file_extension": ".py",
   "mimetype": "text/x-python",
   "name": "python",
   "nbconvert_exporter": "python",
   "pygments_lexer": "ipython3",
   "version": "3.11.4"
  }
 },
 "nbformat": 4,
 "nbformat_minor": 2
}
